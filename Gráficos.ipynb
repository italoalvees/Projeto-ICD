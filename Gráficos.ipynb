{
 "cells": [
  {
   "cell_type": "code",
   "execution_count": 24,
   "metadata": {},
   "outputs": [],
   "source": [
    "import pandas as pd"
   ]
  },
  {
   "cell_type": "code",
   "execution_count": 25,
   "metadata": {},
   "outputs": [],
   "source": [
    "import seaborn as sns\n",
    "sns.set_palette('Set2')"
   ]
  },
  {
   "cell_type": "code",
   "execution_count": 26,
   "metadata": {},
   "outputs": [],
   "source": [
    "df = pd.read_csv('datatran2020-worked.csv')"
   ]
  },
  {
   "cell_type": "code",
   "execution_count": 27,
   "metadata": {},
   "outputs": [
    {
     "data": {
      "text/html": [
       "<div>\n",
       "<style scoped>\n",
       "    .dataframe tbody tr th:only-of-type {\n",
       "        vertical-align: middle;\n",
       "    }\n",
       "\n",
       "    .dataframe tbody tr th {\n",
       "        vertical-align: top;\n",
       "    }\n",
       "\n",
       "    .dataframe thead th {\n",
       "        text-align: right;\n",
       "    }\n",
       "</style>\n",
       "<table border=\"1\" class=\"dataframe\">\n",
       "  <thead>\n",
       "    <tr style=\"text-align: right;\">\n",
       "      <th></th>\n",
       "      <th>id</th>\n",
       "      <th>data_inversa</th>\n",
       "      <th>dia_semana</th>\n",
       "      <th>horario</th>\n",
       "      <th>uf</th>\n",
       "      <th>br</th>\n",
       "      <th>km</th>\n",
       "      <th>municipio</th>\n",
       "      <th>causa_acidente</th>\n",
       "      <th>tipo_acidente</th>\n",
       "      <th>...</th>\n",
       "      <th>feridos_graves</th>\n",
       "      <th>ilesos</th>\n",
       "      <th>ignorados</th>\n",
       "      <th>feridos</th>\n",
       "      <th>veiculos</th>\n",
       "      <th>latitude</th>\n",
       "      <th>longitude</th>\n",
       "      <th>regional</th>\n",
       "      <th>delegacia</th>\n",
       "      <th>uop</th>\n",
       "    </tr>\n",
       "  </thead>\n",
       "  <tbody>\n",
       "    <tr>\n",
       "      <th>0</th>\n",
       "      <td>260031.0</td>\n",
       "      <td>2020-01-01</td>\n",
       "      <td>quarta-feira</td>\n",
       "      <td>01:00:00</td>\n",
       "      <td>TO</td>\n",
       "      <td>153.0</td>\n",
       "      <td>678.1</td>\n",
       "      <td>GURUPI</td>\n",
       "      <td>Animais na Pista</td>\n",
       "      <td>Atropelamento de Animal</td>\n",
       "      <td>...</td>\n",
       "      <td>5</td>\n",
       "      <td>0</td>\n",
       "      <td>0</td>\n",
       "      <td>5</td>\n",
       "      <td>1</td>\n",
       "      <td>-11.774602</td>\n",
       "      <td>-49.107450</td>\n",
       "      <td>SR-TO</td>\n",
       "      <td>UOP01/TO</td>\n",
       "      <td>NaN</td>\n",
       "    </tr>\n",
       "    <tr>\n",
       "      <th>1</th>\n",
       "      <td>260036.0</td>\n",
       "      <td>2020-01-01</td>\n",
       "      <td>quarta-feira</td>\n",
       "      <td>01:00:00</td>\n",
       "      <td>RJ</td>\n",
       "      <td>116.0</td>\n",
       "      <td>178.0</td>\n",
       "      <td>NOVA IGUACU</td>\n",
       "      <td>Falta de Aten��o do Pedestre</td>\n",
       "      <td>Atropelamento de Pedestre</td>\n",
       "      <td>...</td>\n",
       "      <td>0</td>\n",
       "      <td>1</td>\n",
       "      <td>0</td>\n",
       "      <td>0</td>\n",
       "      <td>1</td>\n",
       "      <td>-22.752230</td>\n",
       "      <td>-43.437910</td>\n",
       "      <td>SR-RJ</td>\n",
       "      <td>DEL5/1</td>\n",
       "      <td>UOP02/RJ</td>\n",
       "    </tr>\n",
       "    <tr>\n",
       "      <th>2</th>\n",
       "      <td>260037.0</td>\n",
       "      <td>2020-01-01</td>\n",
       "      <td>quarta-feira</td>\n",
       "      <td>01:52:00</td>\n",
       "      <td>SC</td>\n",
       "      <td>101.0</td>\n",
       "      <td>206.9</td>\n",
       "      <td>SAO JOSE</td>\n",
       "      <td>Ingest�o de �lcool</td>\n",
       "      <td>Colis�o lateral</td>\n",
       "      <td>...</td>\n",
       "      <td>0</td>\n",
       "      <td>1</td>\n",
       "      <td>0</td>\n",
       "      <td>1</td>\n",
       "      <td>2</td>\n",
       "      <td>-27.591935</td>\n",
       "      <td>-48.618246</td>\n",
       "      <td>SR-SC</td>\n",
       "      <td>DEL8/1</td>\n",
       "      <td>UOP01/SC</td>\n",
       "    </tr>\n",
       "    <tr>\n",
       "      <th>3</th>\n",
       "      <td>260038.0</td>\n",
       "      <td>2020-01-01</td>\n",
       "      <td>quarta-feira</td>\n",
       "      <td>01:15:00</td>\n",
       "      <td>RO</td>\n",
       "      <td>364.0</td>\n",
       "      <td>236.0</td>\n",
       "      <td>CACOAL</td>\n",
       "      <td>Velocidade Incompat�vel</td>\n",
       "      <td>Sa�da de leito carro��vel</td>\n",
       "      <td>...</td>\n",
       "      <td>1</td>\n",
       "      <td>0</td>\n",
       "      <td>0</td>\n",
       "      <td>1</td>\n",
       "      <td>1</td>\n",
       "      <td>-11.446246</td>\n",
       "      <td>-61.437612</td>\n",
       "      <td>SR-RO</td>\n",
       "      <td>DEL21/2</td>\n",
       "      <td>UOP02/RO</td>\n",
       "    </tr>\n",
       "    <tr>\n",
       "      <th>4</th>\n",
       "      <td>260039.0</td>\n",
       "      <td>2020-01-01</td>\n",
       "      <td>quarta-feira</td>\n",
       "      <td>01:30:00</td>\n",
       "      <td>PR</td>\n",
       "      <td>153.0</td>\n",
       "      <td>360.0</td>\n",
       "      <td>REBOUCAS</td>\n",
       "      <td>Ingest�o de �lcool</td>\n",
       "      <td>Capotamento</td>\n",
       "      <td>...</td>\n",
       "      <td>4</td>\n",
       "      <td>0</td>\n",
       "      <td>0</td>\n",
       "      <td>6</td>\n",
       "      <td>1</td>\n",
       "      <td>-25.675038</td>\n",
       "      <td>-50.750898</td>\n",
       "      <td>SR-PR</td>\n",
       "      <td>DEL7/3</td>\n",
       "      <td>UOP04/PR</td>\n",
       "    </tr>\n",
       "  </tbody>\n",
       "</table>\n",
       "<p>5 rows × 30 columns</p>\n",
       "</div>"
      ],
      "text/plain": [
       "         id data_inversa    dia_semana   horario  uf     br     km  \\\n",
       "0  260031.0   2020-01-01  quarta-feira  01:00:00  TO  153.0  678.1   \n",
       "1  260036.0   2020-01-01  quarta-feira  01:00:00  RJ  116.0  178.0   \n",
       "2  260037.0   2020-01-01  quarta-feira  01:52:00  SC  101.0  206.9   \n",
       "3  260038.0   2020-01-01  quarta-feira  01:15:00  RO  364.0  236.0   \n",
       "4  260039.0   2020-01-01  quarta-feira  01:30:00  PR  153.0  360.0   \n",
       "\n",
       "     municipio                causa_acidente              tipo_acidente  ...  \\\n",
       "0       GURUPI              Animais na Pista    Atropelamento de Animal  ...   \n",
       "1  NOVA IGUACU  Falta de Aten��o do Pedestre  Atropelamento de Pedestre  ...   \n",
       "2     SAO JOSE            Ingest�o de �lcool            Colis�o lateral  ...   \n",
       "3       CACOAL       Velocidade Incompat�vel  Sa�da de leito carro��vel  ...   \n",
       "4     REBOUCAS            Ingest�o de �lcool                Capotamento  ...   \n",
       "\n",
       "  feridos_graves ilesos ignorados feridos veiculos   latitude  longitude  \\\n",
       "0              5      0         0       5        1 -11.774602 -49.107450   \n",
       "1              0      1         0       0        1 -22.752230 -43.437910   \n",
       "2              0      1         0       1        2 -27.591935 -48.618246   \n",
       "3              1      0         0       1        1 -11.446246 -61.437612   \n",
       "4              4      0         0       6        1 -25.675038 -50.750898   \n",
       "\n",
       "   regional  delegacia       uop  \n",
       "0     SR-TO   UOP01/TO       NaN  \n",
       "1     SR-RJ     DEL5/1  UOP02/RJ  \n",
       "2     SR-SC     DEL8/1  UOP01/SC  \n",
       "3     SR-RO    DEL21/2  UOP02/RO  \n",
       "4     SR-PR     DEL7/3  UOP04/PR  \n",
       "\n",
       "[5 rows x 30 columns]"
      ]
     },
     "execution_count": 27,
     "metadata": {},
     "output_type": "execute_result"
    }
   ],
   "source": [
    "df.head()"
   ]
  },
  {
   "cell_type": "code",
   "execution_count": 28,
   "metadata": {},
   "outputs": [
    {
     "name": "stdout",
     "output_type": "stream",
     "text": [
      "<class 'pandas.core.frame.DataFrame'>\n",
      "RangeIndex: 45368 entries, 0 to 45367\n",
      "Data columns (total 30 columns):\n",
      " #   Column                  Non-Null Count  Dtype  \n",
      "---  ------                  --------------  -----  \n",
      " 0   id                      45368 non-null  float64\n",
      " 1   data_inversa            45368 non-null  object \n",
      " 2   dia_semana              45368 non-null  object \n",
      " 3   horario                 45368 non-null  object \n",
      " 4   uf                      45368 non-null  object \n",
      " 5   br                      45253 non-null  float64\n",
      " 6   km                      45253 non-null  float64\n",
      " 7   municipio               45368 non-null  object \n",
      " 8   causa_acidente          45368 non-null  object \n",
      " 9   tipo_acidente           45368 non-null  object \n",
      " 10  classificacao_acidente  45368 non-null  object \n",
      " 11  fase_dia                45368 non-null  object \n",
      " 12  sentido_via             45368 non-null  object \n",
      " 13  condicao_metereologica  45368 non-null  object \n",
      " 14  tipo_pista              45368 non-null  object \n",
      " 15  tracado_via             45368 non-null  object \n",
      " 16  uso_solo                45368 non-null  object \n",
      " 17  pessoas                 45368 non-null  int64  \n",
      " 18  mortos                  45368 non-null  int64  \n",
      " 19  feridos_leves           45368 non-null  int64  \n",
      " 20  feridos_graves          45368 non-null  int64  \n",
      " 21  ilesos                  45368 non-null  int64  \n",
      " 22  ignorados               45368 non-null  int64  \n",
      " 23  feridos                 45368 non-null  int64  \n",
      " 24  veiculos                45368 non-null  int64  \n",
      " 25  latitude                45368 non-null  float64\n",
      " 26  longitude               45368 non-null  float64\n",
      " 27  regional                45368 non-null  object \n",
      " 28  delegacia               45368 non-null  object \n",
      " 29  uop                     44969 non-null  object \n",
      "dtypes: float64(5), int64(8), object(17)\n",
      "memory usage: 10.4+ MB\n"
     ]
    }
   ],
   "source": [
    "df.info()"
   ]
  },
  {
   "cell_type": "code",
   "execution_count": 29,
   "metadata": {},
   "outputs": [
    {
     "data": {
      "text/plain": [
       "id                          0\n",
       "data_inversa                0\n",
       "dia_semana                  0\n",
       "horario                     0\n",
       "uf                          0\n",
       "br                        115\n",
       "km                        115\n",
       "municipio                   0\n",
       "causa_acidente              0\n",
       "tipo_acidente               0\n",
       "classificacao_acidente      0\n",
       "fase_dia                    0\n",
       "sentido_via                 0\n",
       "condicao_metereologica      0\n",
       "tipo_pista                  0\n",
       "tracado_via                 0\n",
       "uso_solo                    0\n",
       "pessoas                     0\n",
       "mortos                      0\n",
       "feridos_leves               0\n",
       "feridos_graves              0\n",
       "ilesos                      0\n",
       "ignorados                   0\n",
       "feridos                     0\n",
       "veiculos                    0\n",
       "latitude                    0\n",
       "longitude                   0\n",
       "regional                    0\n",
       "delegacia                   0\n",
       "uop                       399\n",
       "dtype: int64"
      ]
     },
     "execution_count": 29,
     "metadata": {},
     "output_type": "execute_result"
    }
   ],
   "source": [
    "df.isna().sum()"
   ]
  },
  {
   "cell_type": "code",
   "execution_count": 30,
   "metadata": {},
   "outputs": [],
   "source": [
    "df.update(df[['br','km']].fillna('0'))\n",
    "df.update(df[['uop']].fillna('nao cadastrado'))"
   ]
  },
  {
   "cell_type": "code",
   "execution_count": 31,
   "metadata": {},
   "outputs": [
    {
     "data": {
      "text/plain": [
       "2.3008067360253923"
      ]
     },
     "execution_count": 31,
     "metadata": {},
     "output_type": "execute_result"
    }
   ],
   "source": [
    "df.pessoas.mean()"
   ]
  },
  {
   "cell_type": "code",
   "execution_count": 32,
   "metadata": {},
   "outputs": [
    {
     "data": {
      "text/html": [
       "<div>\n",
       "<style scoped>\n",
       "    .dataframe tbody tr th:only-of-type {\n",
       "        vertical-align: middle;\n",
       "    }\n",
       "\n",
       "    .dataframe tbody tr th {\n",
       "        vertical-align: top;\n",
       "    }\n",
       "\n",
       "    .dataframe thead th {\n",
       "        text-align: right;\n",
       "    }\n",
       "</style>\n",
       "<table border=\"1\" class=\"dataframe\">\n",
       "  <thead>\n",
       "    <tr style=\"text-align: right;\">\n",
       "      <th></th>\n",
       "      <th>pessoas</th>\n",
       "      <th>mortos</th>\n",
       "      <th>feridos_leves</th>\n",
       "      <th>ilesos</th>\n",
       "      <th>ignorados</th>\n",
       "      <th>veiculos</th>\n",
       "    </tr>\n",
       "    <tr>\n",
       "      <th>causa_acidente</th>\n",
       "      <th></th>\n",
       "      <th></th>\n",
       "      <th></th>\n",
       "      <th></th>\n",
       "      <th></th>\n",
       "      <th></th>\n",
       "    </tr>\n",
       "  </thead>\n",
       "  <tbody>\n",
       "    <tr>\n",
       "      <th>Falta de Aten��o � Condu��o</th>\n",
       "      <td>36548</td>\n",
       "      <td>860</td>\n",
       "      <td>14011</td>\n",
       "      <td>15398</td>\n",
       "      <td>2410</td>\n",
       "      <td>27388</td>\n",
       "    </tr>\n",
       "    <tr>\n",
       "      <th>Desobedi�ncia �s normas de tr�nsito pelo condutor</th>\n",
       "      <td>16422</td>\n",
       "      <td>599</td>\n",
       "      <td>5345</td>\n",
       "      <td>7029</td>\n",
       "      <td>1322</td>\n",
       "      <td>12312</td>\n",
       "    </tr>\n",
       "    <tr>\n",
       "      <th>Velocidade Incompat�vel</th>\n",
       "      <td>8766</td>\n",
       "      <td>517</td>\n",
       "      <td>3673</td>\n",
       "      <td>2779</td>\n",
       "      <td>563</td>\n",
       "      <td>5736</td>\n",
       "    </tr>\n",
       "    <tr>\n",
       "      <th>Falta de Aten��o do Pedestre</th>\n",
       "      <td>2836</td>\n",
       "      <td>403</td>\n",
       "      <td>549</td>\n",
       "      <td>977</td>\n",
       "      <td>415</td>\n",
       "      <td>1333</td>\n",
       "    </tr>\n",
       "    <tr>\n",
       "      <th>Ingest�o de �lcool</th>\n",
       "      <td>7941</td>\n",
       "      <td>225</td>\n",
       "      <td>2429</td>\n",
       "      <td>3862</td>\n",
       "      <td>596</td>\n",
       "      <td>5729</td>\n",
       "    </tr>\n",
       "    <tr>\n",
       "      <th>Ultrapassagem Indevida</th>\n",
       "      <td>2583</td>\n",
       "      <td>221</td>\n",
       "      <td>826</td>\n",
       "      <td>909</td>\n",
       "      <td>204</td>\n",
       "      <td>1622</td>\n",
       "    </tr>\n",
       "    <tr>\n",
       "      <th>Condutor Dormindo</th>\n",
       "      <td>3097</td>\n",
       "      <td>180</td>\n",
       "      <td>1379</td>\n",
       "      <td>973</td>\n",
       "      <td>121</td>\n",
       "      <td>1981</td>\n",
       "    </tr>\n",
       "    <tr>\n",
       "      <th>Desobedi�ncia �s normas de tr�nsito pelo pedestre</th>\n",
       "      <td>715</td>\n",
       "      <td>90</td>\n",
       "      <td>138</td>\n",
       "      <td>255</td>\n",
       "      <td>124</td>\n",
       "      <td>341</td>\n",
       "    </tr>\n",
       "    <tr>\n",
       "      <th>Defeito Mec�nico no Ve�culo</th>\n",
       "      <td>5206</td>\n",
       "      <td>87</td>\n",
       "      <td>2022</td>\n",
       "      <td>2501</td>\n",
       "      <td>216</td>\n",
       "      <td>3442</td>\n",
       "    </tr>\n",
       "    <tr>\n",
       "      <th>N�o guardar dist�ncia de seguran�a</th>\n",
       "      <td>7303</td>\n",
       "      <td>67</td>\n",
       "      <td>2385</td>\n",
       "      <td>3934</td>\n",
       "      <td>470</td>\n",
       "      <td>5623</td>\n",
       "    </tr>\n",
       "    <tr>\n",
       "      <th>Pista Escorregadia</th>\n",
       "      <td>3017</td>\n",
       "      <td>67</td>\n",
       "      <td>1538</td>\n",
       "      <td>1042</td>\n",
       "      <td>105</td>\n",
       "      <td>1777</td>\n",
       "    </tr>\n",
       "    <tr>\n",
       "      <th>Defeito na Via</th>\n",
       "      <td>1548</td>\n",
       "      <td>57</td>\n",
       "      <td>809</td>\n",
       "      <td>442</td>\n",
       "      <td>62</td>\n",
       "      <td>955</td>\n",
       "    </tr>\n",
       "    <tr>\n",
       "      <th>Animais na Pista</th>\n",
       "      <td>1978</td>\n",
       "      <td>57</td>\n",
       "      <td>880</td>\n",
       "      <td>712</td>\n",
       "      <td>78</td>\n",
       "      <td>1254</td>\n",
       "    </tr>\n",
       "    <tr>\n",
       "      <th>Mal S�bito</th>\n",
       "      <td>718</td>\n",
       "      <td>53</td>\n",
       "      <td>358</td>\n",
       "      <td>159</td>\n",
       "      <td>29</td>\n",
       "      <td>566</td>\n",
       "    </tr>\n",
       "    <tr>\n",
       "      <th>Restri��o de Visibilidade</th>\n",
       "      <td>981</td>\n",
       "      <td>44</td>\n",
       "      <td>351</td>\n",
       "      <td>388</td>\n",
       "      <td>65</td>\n",
       "      <td>666</td>\n",
       "    </tr>\n",
       "    <tr>\n",
       "      <th>Avarias e/ou desgaste excessivo no pneu</th>\n",
       "      <td>1295</td>\n",
       "      <td>37</td>\n",
       "      <td>728</td>\n",
       "      <td>343</td>\n",
       "      <td>43</td>\n",
       "      <td>727</td>\n",
       "    </tr>\n",
       "    <tr>\n",
       "      <th>Defici�ncia ou n�o Acionamento do Sistema de Ilumina��o/Sinaliza��o do Ve�culo</th>\n",
       "      <td>347</td>\n",
       "      <td>25</td>\n",
       "      <td>86</td>\n",
       "      <td>127</td>\n",
       "      <td>46</td>\n",
       "      <td>268</td>\n",
       "    </tr>\n",
       "    <tr>\n",
       "      <th>Ingest�o de �lcool e/ou subst�ncias psicoativas pelo pedestre</th>\n",
       "      <td>546</td>\n",
       "      <td>21</td>\n",
       "      <td>166</td>\n",
       "      <td>233</td>\n",
       "      <td>47</td>\n",
       "      <td>344</td>\n",
       "    </tr>\n",
       "    <tr>\n",
       "      <th>Objeto est�tico sobre o leito carro��vel</th>\n",
       "      <td>729</td>\n",
       "      <td>21</td>\n",
       "      <td>322</td>\n",
       "      <td>270</td>\n",
       "      <td>33</td>\n",
       "      <td>475</td>\n",
       "    </tr>\n",
       "    <tr>\n",
       "      <th>Sinaliza��o da via insuficiente ou inadequada</th>\n",
       "      <td>421</td>\n",
       "      <td>16</td>\n",
       "      <td>156</td>\n",
       "      <td>171</td>\n",
       "      <td>23</td>\n",
       "      <td>284</td>\n",
       "    </tr>\n",
       "    <tr>\n",
       "      <th>Agress�o Externa</th>\n",
       "      <td>543</td>\n",
       "      <td>13</td>\n",
       "      <td>189</td>\n",
       "      <td>227</td>\n",
       "      <td>64</td>\n",
       "      <td>337</td>\n",
       "    </tr>\n",
       "    <tr>\n",
       "      <th>Ingest�o de Subst�ncias Psicoativas</th>\n",
       "      <td>145</td>\n",
       "      <td>6</td>\n",
       "      <td>35</td>\n",
       "      <td>77</td>\n",
       "      <td>14</td>\n",
       "      <td>100</td>\n",
       "    </tr>\n",
       "    <tr>\n",
       "      <th>Fen�menos da Natureza</th>\n",
       "      <td>290</td>\n",
       "      <td>6</td>\n",
       "      <td>110</td>\n",
       "      <td>132</td>\n",
       "      <td>13</td>\n",
       "      <td>209</td>\n",
       "    </tr>\n",
       "    <tr>\n",
       "      <th>Carga excessiva e/ou mal acondicionada</th>\n",
       "      <td>408</td>\n",
       "      <td>5</td>\n",
       "      <td>153</td>\n",
       "      <td>206</td>\n",
       "      <td>18</td>\n",
       "      <td>338</td>\n",
       "    </tr>\n",
       "  </tbody>\n",
       "</table>\n",
       "</div>"
      ],
      "text/plain": [
       "                                                    pessoas  mortos  \\\n",
       "causa_acidente                                                        \n",
       "Falta de Aten��o � Condu��o                           36548     860   \n",
       "Desobedi�ncia �s normas de tr�nsito pelo condutor     16422     599   \n",
       "Velocidade Incompat�vel                                8766     517   \n",
       "Falta de Aten��o do Pedestre                           2836     403   \n",
       "Ingest�o de �lcool                                     7941     225   \n",
       "Ultrapassagem Indevida                                 2583     221   \n",
       "Condutor Dormindo                                      3097     180   \n",
       "Desobedi�ncia �s normas de tr�nsito pelo pedestre       715      90   \n",
       "Defeito Mec�nico no Ve�culo                            5206      87   \n",
       "N�o guardar dist�ncia de seguran�a                     7303      67   \n",
       "Pista Escorregadia                                     3017      67   \n",
       "Defeito na Via                                         1548      57   \n",
       "Animais na Pista                                       1978      57   \n",
       "Mal S�bito                                              718      53   \n",
       "Restri��o de Visibilidade                               981      44   \n",
       "Avarias e/ou desgaste excessivo no pneu                1295      37   \n",
       "Defici�ncia ou n�o Acionamento do Sistema de Il...      347      25   \n",
       "Ingest�o de �lcool e/ou subst�ncias psicoativas...      546      21   \n",
       "Objeto est�tico sobre o leito carro��vel                729      21   \n",
       "Sinaliza��o da via insuficiente ou inadequada           421      16   \n",
       "Agress�o Externa                                        543      13   \n",
       "Ingest�o de Subst�ncias Psicoativas                     145       6   \n",
       "Fen�menos da Natureza                                   290       6   \n",
       "Carga excessiva e/ou mal acondicionada                  408       5   \n",
       "\n",
       "                                                    feridos_leves  ilesos  \\\n",
       "causa_acidente                                                              \n",
       "Falta de Aten��o � Condu��o                                 14011   15398   \n",
       "Desobedi�ncia �s normas de tr�nsito pelo condutor            5345    7029   \n",
       "Velocidade Incompat�vel                                      3673    2779   \n",
       "Falta de Aten��o do Pedestre                                  549     977   \n",
       "Ingest�o de �lcool                                           2429    3862   \n",
       "Ultrapassagem Indevida                                        826     909   \n",
       "Condutor Dormindo                                            1379     973   \n",
       "Desobedi�ncia �s normas de tr�nsito pelo pedestre             138     255   \n",
       "Defeito Mec�nico no Ve�culo                                  2022    2501   \n",
       "N�o guardar dist�ncia de seguran�a                           2385    3934   \n",
       "Pista Escorregadia                                           1538    1042   \n",
       "Defeito na Via                                                809     442   \n",
       "Animais na Pista                                              880     712   \n",
       "Mal S�bito                                                    358     159   \n",
       "Restri��o de Visibilidade                                     351     388   \n",
       "Avarias e/ou desgaste excessivo no pneu                       728     343   \n",
       "Defici�ncia ou n�o Acionamento do Sistema de Il...             86     127   \n",
       "Ingest�o de �lcool e/ou subst�ncias psicoativas...            166     233   \n",
       "Objeto est�tico sobre o leito carro��vel                      322     270   \n",
       "Sinaliza��o da via insuficiente ou inadequada                 156     171   \n",
       "Agress�o Externa                                              189     227   \n",
       "Ingest�o de Subst�ncias Psicoativas                            35      77   \n",
       "Fen�menos da Natureza                                         110     132   \n",
       "Carga excessiva e/ou mal acondicionada                        153     206   \n",
       "\n",
       "                                                    ignorados  veiculos  \n",
       "causa_acidente                                                           \n",
       "Falta de Aten��o � Condu��o                              2410     27388  \n",
       "Desobedi�ncia �s normas de tr�nsito pelo condutor        1322     12312  \n",
       "Velocidade Incompat�vel                                   563      5736  \n",
       "Falta de Aten��o do Pedestre                              415      1333  \n",
       "Ingest�o de �lcool                                        596      5729  \n",
       "Ultrapassagem Indevida                                    204      1622  \n",
       "Condutor Dormindo                                         121      1981  \n",
       "Desobedi�ncia �s normas de tr�nsito pelo pedestre         124       341  \n",
       "Defeito Mec�nico no Ve�culo                               216      3442  \n",
       "N�o guardar dist�ncia de seguran�a                        470      5623  \n",
       "Pista Escorregadia                                        105      1777  \n",
       "Defeito na Via                                             62       955  \n",
       "Animais na Pista                                           78      1254  \n",
       "Mal S�bito                                                 29       566  \n",
       "Restri��o de Visibilidade                                  65       666  \n",
       "Avarias e/ou desgaste excessivo no pneu                    43       727  \n",
       "Defici�ncia ou n�o Acionamento do Sistema de Il...         46       268  \n",
       "Ingest�o de �lcool e/ou subst�ncias psicoativas...         47       344  \n",
       "Objeto est�tico sobre o leito carro��vel                   33       475  \n",
       "Sinaliza��o da via insuficiente ou inadequada              23       284  \n",
       "Agress�o Externa                                           64       337  \n",
       "Ingest�o de Subst�ncias Psicoativas                        14       100  \n",
       "Fen�menos da Natureza                                      13       209  \n",
       "Carga excessiva e/ou mal acondicionada                     18       338  "
      ]
     },
     "execution_count": 32,
     "metadata": {},
     "output_type": "execute_result"
    }
   ],
   "source": [
    "acidentes = df[['pessoas','mortos','feridos_leves','ilesos','ignorados','veiculos','causa_acidente' ]].groupby(by = 'causa_acidente').sum().sort_values(by = 'mortos', ascending = False)\n",
    "\n",
    "acidentes"
   ]
  },
  {
   "cell_type": "code",
   "execution_count": 33,
   "metadata": {},
   "outputs": [
    {
     "data": {
      "text/plain": [
       "pessoas           2.300807\n",
       "mortos            0.081048\n",
       "feridos_leves     0.851658\n",
       "feridos_graves    0.260999\n",
       "ilesos            0.951023\n",
       "ignorados         0.156079\n",
       "feridos           1.112656\n",
       "veiculos          1.626852\n",
       "dtype: float64"
      ]
     },
     "execution_count": 33,
     "metadata": {},
     "output_type": "execute_result"
    }
   ],
   "source": [
    "df.select_dtypes(include=['int64']).mean()\n"
   ]
  },
  {
   "cell_type": "code",
   "execution_count": 34,
   "metadata": {
    "scrolled": true
   },
   "outputs": [
    {
     "data": {
      "text/plain": [
       "causa_acidente\n",
       "Falta de Aten��o � Condu��o                                                       15899\n",
       "Desobedi�ncia �s normas de tr�nsito pelo condutor                                  6251\n",
       "Velocidade Incompat�vel                                                            4190\n",
       "Ingest�o de �lcool                                                                 3662\n",
       "Defeito Mec�nico no Ve�culo                                                        2729\n",
       "N�o guardar dist�ncia de seguran�a                                                 2516\n",
       "Condutor Dormindo                                                                  1494\n",
       "Pista Escorregadia                                                                 1410\n",
       "Falta de Aten��o do Pedestre                                                       1205\n",
       "Animais na Pista                                                                   1072\n",
       "Ultrapassagem Indevida                                                              790\n",
       "Defeito na Via                                                                      781\n",
       "Avarias e/ou desgaste excessivo no pneu                                             640\n",
       "Mal S�bito                                                                          441\n",
       "Restri��o de Visibilidade                                                           386\n",
       "Objeto est�tico sobre o leito carro��vel                                            318\n",
       "Desobedi�ncia �s normas de tr�nsito pelo pedestre                                   286\n",
       "Carga excessiva e/ou mal acondicionada                                              266\n",
       "Ingest�o de �lcool e/ou subst�ncias psicoativas pelo pedestre                       256\n",
       "Agress�o Externa                                                                    255\n",
       "Sinaliza��o da via insuficiente ou inadequada                                       174\n",
       "Fen�menos da Natureza                                                               149\n",
       "Defici�ncia ou n�o Acionamento do Sistema de Ilumina��o/Sinaliza��o do Ve�culo      137\n",
       "Ingest�o de Subst�ncias Psicoativas                                                  61\n",
       "dtype: int64"
      ]
     },
     "execution_count": 34,
     "metadata": {},
     "output_type": "execute_result"
    }
   ],
   "source": [
    "df.groupby('causa_acidente').size().sort_values(ascending = False)"
   ]
  },
  {
   "cell_type": "code",
   "execution_count": 35,
   "metadata": {},
   "outputs": [
    {
     "data": {
      "text/plain": [
       "<matplotlib.axes._subplots.AxesSubplot at 0x7f63c3744c10>"
      ]
     },
     "execution_count": 35,
     "metadata": {},
     "output_type": "execute_result"
    },
    {
     "data": {
      "image/png": "[encoded data removed]",
      "text/plain": [
       "<Figure size 432x288 with 1 Axes>"
      ]
     },
     "metadata": {
      "needs_background": "light"
     },
     "output_type": "display_data"
    }
   ],
   "source": [
    "%matplotlib inline\n",
    "df['causa_acidente'].value_counts().sort_values(ascending = False).plot.hist()"
   ]
  },
  {
   "cell_type": "code",
   "execution_count": 36,
   "metadata": {},
   "outputs": [
    {
     "data": {
      "text/plain": [
       "municipio\n",
       "BRASILIA                757\n",
       "CURITIBA                700\n",
       "SAO JOSE                456\n",
       "GUARULHOS               452\n",
       "PALHOCA                 426\n",
       "SERRA                   377\n",
       "DUQUE DE CAXIAS         373\n",
       "BETIM                   373\n",
       "PORTO VELHO             316\n",
       "RECIFE                  300\n",
       "SAO JOSE DOS PINHAIS    294\n",
       "UBERLANDIA              272\n",
       "CARIACICA               255\n",
       "MARINGA                 236\n",
       "CASCAVEL                231\n",
       "TERESINA                227\n",
       "JOAO PESSOA             226\n",
       "LINHARES                225\n",
       "UBERABA                 221\n",
       "SAO PAULO               213\n",
       "dtype: int64"
      ]
     },
     "execution_count": 36,
     "metadata": {},
     "output_type": "execute_result"
    }
   ],
   "source": [
    "df.groupby('municipio').size().sort_values(ascending = False)[0:20]"
   ]
  },
  {
   "cell_type": "code",
   "execution_count": 37,
   "metadata": {},
   "outputs": [
    {
     "data": {
      "text/plain": [
       "<matplotlib.axes._subplots.AxesSubplot at 0x7f63c8c58b90>"
      ]
     },
     "execution_count": 37,
     "metadata": {},
     "output_type": "execute_result"
    },
    {
     "data": {
      "image/png": "[encoded data removed]",
      "text/plain": [
       "<Figure size 432x288 with 1 Axes>"
      ]
     },
     "metadata": {
      "needs_background": "light"
     },
     "output_type": "display_data"
    }
   ],
   "source": [
    "%matplotlib inline\n",
    "df['municipio'].value_counts().sort_values(ascending = True)[0:20].plot.barh()\n"
   ]
  },
  {
   "cell_type": "code",
   "execution_count": 38,
   "metadata": {},
   "outputs": [
    {
     "data": {
      "text/plain": [
       "uf\n",
       "MG    5934\n",
       "SC    5261\n",
       "PR    5201\n",
       "RS    3018\n",
       "RJ    2982\n",
       "SP    2844\n",
       "BA    2479\n",
       "GO    2336\n",
       "PE    1827\n",
       "ES    1796\n",
       "MT    1561\n",
       "RO    1113\n",
       "CE    1084\n",
       "MS    1058\n",
       "PB     988\n",
       "RN     935\n",
       "PI     816\n",
       "MA     780\n",
       "DF     757\n",
       "PA     717\n",
       "AL     453\n",
       "TO     418\n",
       "SE     413\n",
       "AC     213\n",
       "RR     181\n",
       "AM     102\n",
       "AP     101\n",
       "dtype: int64"
      ]
     },
     "execution_count": 38,
     "metadata": {},
     "output_type": "execute_result"
    }
   ],
   "source": [
    "df.groupby('uf').size().sort_values(ascending = False)"
   ]
  },
  {
   "cell_type": "code",
   "execution_count": 39,
   "metadata": {},
   "outputs": [
    {
     "data": {
      "text/plain": [
       "<matplotlib.axes._subplots.AxesSubplot at 0x7f63c8a174d0>"
      ]
     },
     "execution_count": 39,
     "metadata": {},
     "output_type": "execute_result"
    },
    {
     "data": {
      "image/png": "[encoded data removed]",
      "text/plain": [
       "<Figure size 432x288 with 1 Axes>"
      ]
     },
     "metadata": {
      "needs_background": "light"
     },
     "output_type": "display_data"
    }
   ],
   "source": [
    "%matplotlib inline\n",
    "df['uf'].value_counts().sort_values(ascending = False).plot.bar()"
   ]
  },
  {
   "cell_type": "code",
   "execution_count": 40,
   "metadata": {},
   "outputs": [
    {
     "data": {
      "text/plain": [
       "dia_semana\n",
       "s�bado           7476\n",
       "domingo          7436\n",
       "sexta-feira      7043\n",
       "segunda-feira    6092\n",
       "quarta-feira     5923\n",
       "quinta-feira     5772\n",
       "ter�a-feira      5626\n",
       "dtype: int64"
      ]
     },
     "execution_count": 40,
     "metadata": {},
     "output_type": "execute_result"
    }
   ],
   "source": [
    "df.groupby('dia_semana').size().sort_values(ascending = False)\n"
   ]
  },
  {
   "cell_type": "code",
   "execution_count": 41,
   "metadata": {},
   "outputs": [
    {
     "data": {
      "text/plain": [
       "<matplotlib.axes._subplots.AxesSubplot at 0x7f63c8a0a190>"
      ]
     },
     "execution_count": 41,
     "metadata": {},
     "output_type": "execute_result"
    },
    {
     "data": {
      "image/png": "[encoded data removed]",
      "text/plain": [
       "<Figure size 432x288 with 1 Axes>"
      ]
     },
     "metadata": {
      "needs_background": "light"
     },
     "output_type": "display_data"
    }
   ],
   "source": [
    "%matplotlib inline\n",
    "df['dia_semana'].value_counts().sort_values(ascending = False).plot.bar()"
   ]
  },
  {
   "cell_type": "code",
   "execution_count": 42,
   "metadata": {},
   "outputs": [
    {
     "data": {
      "text/plain": [
       "tipo_pista\n",
       "Simples     23120\n",
       "Dupla       18643\n",
       "M�ltipla     3605\n",
       "dtype: int64"
      ]
     },
     "execution_count": 42,
     "metadata": {},
     "output_type": "execute_result"
    }
   ],
   "source": [
    "df.groupby('tipo_pista').size().sort_values(ascending = False)\n"
   ]
  },
  {
   "cell_type": "code",
   "execution_count": 43,
   "metadata": {},
   "outputs": [
    {
     "data": {
      "text/plain": [
       "<matplotlib.axes._subplots.AxesSubplot at 0x7f63c34bdc10>"
      ]
     },
     "execution_count": 43,
     "metadata": {},
     "output_type": "execute_result"
    },
    {
     "data": {
      "image/png": "[encoded data removed]",
      "text/plain": [
       "<Figure size 432x288 with 1 Axes>"
      ]
     },
     "metadata": {},
     "output_type": "display_data"
    }
   ],
   "source": [
    "%matplotlib inline\n",
    "df['tipo_pista'].value_counts().sort_values(ascending = False).plot.pie()"
   ]
  }
 ],
 "metadata": {
  "kernelspec": {
   "display_name": "Python 3",
   "language": "python",
   "name": "python3"
  },
  "language_info": {
   "codemirror_mode": {
    "name": "ipython",
    "version": 3
   },
   "file_extension": ".py",
   "mimetype": "text/x-python",
   "name": "python",
   "nbconvert_exporter": "python",
   "pygments_lexer": "ipython3",
   "version": "3.7.6"
  }
 },
 "nbformat": 4,
 "nbformat_minor": 2
}
