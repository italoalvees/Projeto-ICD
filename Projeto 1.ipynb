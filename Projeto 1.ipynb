{
 "cells": [
  {
   "cell_type": "markdown",
   "metadata": {},
   "source": [
    "1. Criar um repositório no Github para o projeto \n",
    "2. Criar um README.md com o título do projeto, nomes dos integrantes e dataset(s) utilizado(s)\n",
    "3. Colocar o(s) dataset(s) utilizados no repositório\n",
    "4. Criar um Jupyter Notebook para iniciar a exploração dos datasets\n",
    "5. No notebook, calcular medidas de centralidade e dispersão dos valores disponíveis nos datasets\n",
    "6. No notebook, criar boxplots para os dados disponíveis nos datasets"
   ]
  },
  {
   "cell_type": "code",
   "execution_count": 440,
   "metadata": {},
   "outputs": [],
   "source": [
    "# Os dados estavam em outro tipo de codificação, tivemos que converter para utf-8, e como a maioria\n",
    "# dos dados brasileiros os números float estavam separados por ',' e não '.', assim precisamos dar um replace,\n",
    "# e as colunas separadas por ';', o que precisou de outro replace.\n",
    "\n",
    "# with open('datatran2020.csv', 'r') as f:\n",
    "#     result = str(f.read())\n",
    "#     result = result.replace(\",\",\".\")\n",
    "#     result = result.replace(\";\",\",\")\n",
    "#     f.close\n",
    "    \n",
    "# with open('datatran2020-worked.csv', 'w') as f:\n",
    "#     f.write(result)\n",
    "#     f.close\n"
   ]
  },
  {
   "cell_type": "code",
   "execution_count": 441,
   "metadata": {},
   "outputs": [],
   "source": [
    "import pandas as pd"
   ]
  },
  {
   "cell_type": "code",
   "execution_count": 442,
   "metadata": {},
   "outputs": [],
   "source": [
    "import seaborn as sns\n",
    "sns.set_palette('Set2')"
   ]
  },
  {
   "cell_type": "markdown",
   "metadata": {},
   "source": [
    "# Definição dos dados"
   ]
  },
  {
   "cell_type": "markdown",
   "metadata": {},
   "source": [
    "**Definindo o arquivo de dados como df (dataframe).**"
   ]
  },
  {
   "cell_type": "code",
   "execution_count": 443,
   "metadata": {},
   "outputs": [],
   "source": [
    "df = pd.read_csv('datatran2020-worked.csv')"
   ]
  },
  {
   "cell_type": "markdown",
   "metadata": {},
   "source": [
    "**Utilizando o comando .head() da biblioteca pandas para receber a quantidade de filas e colunas.**"
   ]
  },
  {
   "cell_type": "code",
   "execution_count": 444,
   "metadata": {},
   "outputs": [
    {
     "data": {
      "text/html": [
       "<div>\n",
       "<style scoped>\n",
       "    .dataframe tbody tr th:only-of-type {\n",
       "        vertical-align: middle;\n",
       "    }\n",
       "\n",
       "    .dataframe tbody tr th {\n",
       "        vertical-align: top;\n",
       "    }\n",
       "\n",
       "    .dataframe thead th {\n",
       "        text-align: right;\n",
       "    }\n",
       "</style>\n",
       "<table border=\"1\" class=\"dataframe\">\n",
       "  <thead>\n",
       "    <tr style=\"text-align: right;\">\n",
       "      <th></th>\n",
       "      <th>id</th>\n",
       "      <th>data_inversa</th>\n",
       "      <th>dia_semana</th>\n",
       "      <th>horario</th>\n",
       "      <th>uf</th>\n",
       "      <th>br</th>\n",
       "      <th>km</th>\n",
       "      <th>municipio</th>\n",
       "      <th>causa_acidente</th>\n",
       "      <th>tipo_acidente</th>\n",
       "      <th>...</th>\n",
       "      <th>feridos_graves</th>\n",
       "      <th>ilesos</th>\n",
       "      <th>ignorados</th>\n",
       "      <th>feridos</th>\n",
       "      <th>veiculos</th>\n",
       "      <th>latitude</th>\n",
       "      <th>longitude</th>\n",
       "      <th>regional</th>\n",
       "      <th>delegacia</th>\n",
       "      <th>uop</th>\n",
       "    </tr>\n",
       "  </thead>\n",
       "  <tbody>\n",
       "    <tr>\n",
       "      <th>0</th>\n",
       "      <td>260031.0</td>\n",
       "      <td>2020-01-01</td>\n",
       "      <td>quarta-feira</td>\n",
       "      <td>01:00:00</td>\n",
       "      <td>TO</td>\n",
       "      <td>153.0</td>\n",
       "      <td>678.1</td>\n",
       "      <td>GURUPI</td>\n",
       "      <td>Animais na Pista</td>\n",
       "      <td>Atropelamento de Animal</td>\n",
       "      <td>...</td>\n",
       "      <td>5</td>\n",
       "      <td>0</td>\n",
       "      <td>0</td>\n",
       "      <td>5</td>\n",
       "      <td>1</td>\n",
       "      <td>-11.774602</td>\n",
       "      <td>-49.107450</td>\n",
       "      <td>SR-TO</td>\n",
       "      <td>UOP01/TO</td>\n",
       "      <td>NaN</td>\n",
       "    </tr>\n",
       "    <tr>\n",
       "      <th>1</th>\n",
       "      <td>260036.0</td>\n",
       "      <td>2020-01-01</td>\n",
       "      <td>quarta-feira</td>\n",
       "      <td>01:00:00</td>\n",
       "      <td>RJ</td>\n",
       "      <td>116.0</td>\n",
       "      <td>178.0</td>\n",
       "      <td>NOVA IGUACU</td>\n",
       "      <td>Falta de Aten��o do Pedestre</td>\n",
       "      <td>Atropelamento de Pedestre</td>\n",
       "      <td>...</td>\n",
       "      <td>0</td>\n",
       "      <td>1</td>\n",
       "      <td>0</td>\n",
       "      <td>0</td>\n",
       "      <td>1</td>\n",
       "      <td>-22.752230</td>\n",
       "      <td>-43.437910</td>\n",
       "      <td>SR-RJ</td>\n",
       "      <td>DEL5/1</td>\n",
       "      <td>UOP02/RJ</td>\n",
       "    </tr>\n",
       "    <tr>\n",
       "      <th>2</th>\n",
       "      <td>260037.0</td>\n",
       "      <td>2020-01-01</td>\n",
       "      <td>quarta-feira</td>\n",
       "      <td>01:52:00</td>\n",
       "      <td>SC</td>\n",
       "      <td>101.0</td>\n",
       "      <td>206.9</td>\n",
       "      <td>SAO JOSE</td>\n",
       "      <td>Ingest�o de �lcool</td>\n",
       "      <td>Colis�o lateral</td>\n",
       "      <td>...</td>\n",
       "      <td>0</td>\n",
       "      <td>1</td>\n",
       "      <td>0</td>\n",
       "      <td>1</td>\n",
       "      <td>2</td>\n",
       "      <td>-27.591935</td>\n",
       "      <td>-48.618246</td>\n",
       "      <td>SR-SC</td>\n",
       "      <td>DEL8/1</td>\n",
       "      <td>UOP01/SC</td>\n",
       "    </tr>\n",
       "    <tr>\n",
       "      <th>3</th>\n",
       "      <td>260038.0</td>\n",
       "      <td>2020-01-01</td>\n",
       "      <td>quarta-feira</td>\n",
       "      <td>01:15:00</td>\n",
       "      <td>RO</td>\n",
       "      <td>364.0</td>\n",
       "      <td>236.0</td>\n",
       "      <td>CACOAL</td>\n",
       "      <td>Velocidade Incompat�vel</td>\n",
       "      <td>Sa�da de leito carro��vel</td>\n",
       "      <td>...</td>\n",
       "      <td>1</td>\n",
       "      <td>0</td>\n",
       "      <td>0</td>\n",
       "      <td>1</td>\n",
       "      <td>1</td>\n",
       "      <td>-11.446246</td>\n",
       "      <td>-61.437612</td>\n",
       "      <td>SR-RO</td>\n",
       "      <td>DEL21/2</td>\n",
       "      <td>UOP02/RO</td>\n",
       "    </tr>\n",
       "    <tr>\n",
       "      <th>4</th>\n",
       "      <td>260039.0</td>\n",
       "      <td>2020-01-01</td>\n",
       "      <td>quarta-feira</td>\n",
       "      <td>01:30:00</td>\n",
       "      <td>PR</td>\n",
       "      <td>153.0</td>\n",
       "      <td>360.0</td>\n",
       "      <td>REBOUCAS</td>\n",
       "      <td>Ingest�o de �lcool</td>\n",
       "      <td>Capotamento</td>\n",
       "      <td>...</td>\n",
       "      <td>4</td>\n",
       "      <td>0</td>\n",
       "      <td>0</td>\n",
       "      <td>6</td>\n",
       "      <td>1</td>\n",
       "      <td>-25.675038</td>\n",
       "      <td>-50.750898</td>\n",
       "      <td>SR-PR</td>\n",
       "      <td>DEL7/3</td>\n",
       "      <td>UOP04/PR</td>\n",
       "    </tr>\n",
       "  </tbody>\n",
       "</table>\n",
       "<p>5 rows × 30 columns</p>\n",
       "</div>"
      ],
      "text/plain": [
       "         id data_inversa    dia_semana   horario  uf     br     km  \\\n",
       "0  260031.0   2020-01-01  quarta-feira  01:00:00  TO  153.0  678.1   \n",
       "1  260036.0   2020-01-01  quarta-feira  01:00:00  RJ  116.0  178.0   \n",
       "2  260037.0   2020-01-01  quarta-feira  01:52:00  SC  101.0  206.9   \n",
       "3  260038.0   2020-01-01  quarta-feira  01:15:00  RO  364.0  236.0   \n",
       "4  260039.0   2020-01-01  quarta-feira  01:30:00  PR  153.0  360.0   \n",
       "\n",
       "     municipio                causa_acidente              tipo_acidente  ...  \\\n",
       "0       GURUPI              Animais na Pista    Atropelamento de Animal  ...   \n",
       "1  NOVA IGUACU  Falta de Aten��o do Pedestre  Atropelamento de Pedestre  ...   \n",
       "2     SAO JOSE            Ingest�o de �lcool            Colis�o lateral  ...   \n",
       "3       CACOAL       Velocidade Incompat�vel  Sa�da de leito carro��vel  ...   \n",
       "4     REBOUCAS            Ingest�o de �lcool                Capotamento  ...   \n",
       "\n",
       "  feridos_graves ilesos ignorados feridos veiculos   latitude  longitude  \\\n",
       "0              5      0         0       5        1 -11.774602 -49.107450   \n",
       "1              0      1         0       0        1 -22.752230 -43.437910   \n",
       "2              0      1         0       1        2 -27.591935 -48.618246   \n",
       "3              1      0         0       1        1 -11.446246 -61.437612   \n",
       "4              4      0         0       6        1 -25.675038 -50.750898   \n",
       "\n",
       "   regional  delegacia       uop  \n",
       "0     SR-TO   UOP01/TO       NaN  \n",
       "1     SR-RJ     DEL5/1  UOP02/RJ  \n",
       "2     SR-SC     DEL8/1  UOP01/SC  \n",
       "3     SR-RO    DEL21/2  UOP02/RO  \n",
       "4     SR-PR     DEL7/3  UOP04/PR  \n",
       "\n",
       "[5 rows x 30 columns]"
      ]
     },
     "execution_count": 444,
     "metadata": {},
     "output_type": "execute_result"
    }
   ],
   "source": [
    "df.head()"
   ]
  },
  {
   "cell_type": "markdown",
   "metadata": {},
   "source": [
    "**Utilização do comando .info() para receber um sumario dos dados recebidos**"
   ]
  },
  {
   "cell_type": "code",
   "execution_count": 445,
   "metadata": {},
   "outputs": [
    {
     "name": "stdout",
     "output_type": "stream",
     "text": [
      "<class 'pandas.core.frame.DataFrame'>\n",
      "RangeIndex: 45368 entries, 0 to 45367\n",
      "Data columns (total 30 columns):\n",
      " #   Column                  Non-Null Count  Dtype  \n",
      "---  ------                  --------------  -----  \n",
      " 0   id                      45368 non-null  float64\n",
      " 1   data_inversa            45368 non-null  object \n",
      " 2   dia_semana              45368 non-null  object \n",
      " 3   horario                 45368 non-null  object \n",
      " 4   uf                      45368 non-null  object \n",
      " 5   br                      45253 non-null  float64\n",
      " 6   km                      45253 non-null  float64\n",
      " 7   municipio               45368 non-null  object \n",
      " 8   causa_acidente          45368 non-null  object \n",
      " 9   tipo_acidente           45368 non-null  object \n",
      " 10  classificacao_acidente  45368 non-null  object \n",
      " 11  fase_dia                45368 non-null  object \n",
      " 12  sentido_via             45368 non-null  object \n",
      " 13  condicao_metereologica  45368 non-null  object \n",
      " 14  tipo_pista              45368 non-null  object \n",
      " 15  tracado_via             45368 non-null  object \n",
      " 16  uso_solo                45368 non-null  object \n",
      " 17  pessoas                 45368 non-null  int64  \n",
      " 18  mortos                  45368 non-null  int64  \n",
      " 19  feridos_leves           45368 non-null  int64  \n",
      " 20  feridos_graves          45368 non-null  int64  \n",
      " 21  ilesos                  45368 non-null  int64  \n",
      " 22  ignorados               45368 non-null  int64  \n",
      " 23  feridos                 45368 non-null  int64  \n",
      " 24  veiculos                45368 non-null  int64  \n",
      " 25  latitude                45368 non-null  float64\n",
      " 26  longitude               45368 non-null  float64\n",
      " 27  regional                45368 non-null  object \n",
      " 28  delegacia               45368 non-null  object \n",
      " 29  uop                     44969 non-null  object \n",
      "dtypes: float64(5), int64(8), object(17)\n",
      "memory usage: 10.4+ MB\n"
     ]
    }
   ],
   "source": [
    "df.info()"
   ]
  },
  {
   "cell_type": "markdown",
   "metadata": {},
   "source": [
    "**Utilização de isna().sum() para detectar os valores nulos dos dados.**"
   ]
  },
  {
   "cell_type": "code",
   "execution_count": 446,
   "metadata": {},
   "outputs": [
    {
     "data": {
      "text/plain": [
       "id                          0\n",
       "data_inversa                0\n",
       "dia_semana                  0\n",
       "horario                     0\n",
       "uf                          0\n",
       "br                        115\n",
       "km                        115\n",
       "municipio                   0\n",
       "causa_acidente              0\n",
       "tipo_acidente               0\n",
       "classificacao_acidente      0\n",
       "fase_dia                    0\n",
       "sentido_via                 0\n",
       "condicao_metereologica      0\n",
       "tipo_pista                  0\n",
       "tracado_via                 0\n",
       "uso_solo                    0\n",
       "pessoas                     0\n",
       "mortos                      0\n",
       "feridos_leves               0\n",
       "feridos_graves              0\n",
       "ilesos                      0\n",
       "ignorados                   0\n",
       "feridos                     0\n",
       "veiculos                    0\n",
       "latitude                    0\n",
       "longitude                   0\n",
       "regional                    0\n",
       "delegacia                   0\n",
       "uop                       399\n",
       "dtype: int64"
      ]
     },
     "execution_count": 446,
     "metadata": {},
     "output_type": "execute_result"
    }
   ],
   "source": [
    "df.isna().sum()"
   ]
  },
  {
   "cell_type": "markdown",
   "metadata": {},
   "source": [
    "# Limpeza e Transformação dos dados recebidos"
   ]
  },
  {
   "cell_type": "markdown",
   "metadata": {},
   "source": [
    "**Atualizando o numero das brs e kilometros, definindo os valores vazios da coluna uop como não cadastrado e trasformando a coluna br em inteiro.**\n"
   ]
  },
  {
   "cell_type": "code",
   "execution_count": 513,
   "metadata": {},
   "outputs": [],
   "source": [
    "df.update(df[['br','km']].fillna('0'))\n",
    "df.update(df[['uop']].fillna('nao cadastrado'))\n",
    "df = df.astype({'br': int})"
   ]
  },
  {
   "cell_type": "code",
   "execution_count": 516,
   "metadata": {},
   "outputs": [
    {
     "data": {
      "text/plain": [
       "0       2020-01-01\n",
       "1       2020-01-01\n",
       "2       2020-01-01\n",
       "3       2020-01-01\n",
       "4       2020-01-01\n",
       "           ...    \n",
       "45363   2020-09-09\n",
       "45364   2020-01-20\n",
       "45365   2020-09-28\n",
       "45366   2020-08-29\n",
       "45367   2020-05-28\n",
       "Name: data_inversa, Length: 45368, dtype: datetime64[ns]"
      ]
     },
     "execution_count": 516,
     "metadata": {},
     "output_type": "execute_result"
    }
   ],
   "source": [
    "df['data_inversa'] = pd.to_datetime(df['data_inversa'])\n",
    "\n",
    "df['data_inversa']"
   ]
  },
  {
   "cell_type": "markdown",
   "metadata": {},
   "source": [
    "# Visualização dos Dados"
   ]
  },
  {
   "cell_type": "markdown",
   "metadata": {},
   "source": [
    "**Uso do .mean para retornar o numero escalar de pessoas.**"
   ]
  },
  {
   "cell_type": "code",
   "execution_count": 472,
   "metadata": {},
   "outputs": [
    {
     "data": {
      "text/plain": [
       "2.3008067360253923"
      ]
     },
     "execution_count": 472,
     "metadata": {},
     "output_type": "execute_result"
    }
   ],
   "source": [
    "df.pessoas.mean()"
   ]
  },
  {
   "cell_type": "markdown",
   "metadata": {},
   "source": [
    "**Lista dos acidentes categorizados por causa do acidente, e com os numeros de pessoas, mortos, feridos, ilesos, ignorados e veiculos organizados de forma decrescente na coluna mortos.**\n"
   ]
  },
  {
   "cell_type": "code",
   "execution_count": 473,
   "metadata": {
    "scrolled": false
   },
   "outputs": [
    {
     "data": {
      "text/html": [
       "<div>\n",
       "<style scoped>\n",
       "    .dataframe tbody tr th:only-of-type {\n",
       "        vertical-align: middle;\n",
       "    }\n",
       "\n",
       "    .dataframe tbody tr th {\n",
       "        vertical-align: top;\n",
       "    }\n",
       "\n",
       "    .dataframe thead th {\n",
       "        text-align: right;\n",
       "    }\n",
       "</style>\n",
       "<table border=\"1\" class=\"dataframe\">\n",
       "  <thead>\n",
       "    <tr style=\"text-align: right;\">\n",
       "      <th></th>\n",
       "      <th>pessoas</th>\n",
       "      <th>mortos</th>\n",
       "      <th>feridos_leves</th>\n",
       "      <th>feridos_graves</th>\n",
       "      <th>ilesos</th>\n",
       "      <th>ignorados</th>\n",
       "      <th>veiculos</th>\n",
       "    </tr>\n",
       "    <tr>\n",
       "      <th>causa_acidente</th>\n",
       "      <th></th>\n",
       "      <th></th>\n",
       "      <th></th>\n",
       "      <th></th>\n",
       "      <th></th>\n",
       "      <th></th>\n",
       "      <th></th>\n",
       "    </tr>\n",
       "  </thead>\n",
       "  <tbody>\n",
       "    <tr>\n",
       "      <th>Falta de Aten��o � Condu��o</th>\n",
       "      <td>36548</td>\n",
       "      <td>860</td>\n",
       "      <td>14011</td>\n",
       "      <td>3869</td>\n",
       "      <td>15398</td>\n",
       "      <td>2410</td>\n",
       "      <td>27388</td>\n",
       "    </tr>\n",
       "    <tr>\n",
       "      <th>Desobedi�ncia �s normas de tr�nsito pelo condutor</th>\n",
       "      <td>16422</td>\n",
       "      <td>599</td>\n",
       "      <td>5345</td>\n",
       "      <td>2127</td>\n",
       "      <td>7029</td>\n",
       "      <td>1322</td>\n",
       "      <td>12312</td>\n",
       "    </tr>\n",
       "    <tr>\n",
       "      <th>Velocidade Incompat�vel</th>\n",
       "      <td>8766</td>\n",
       "      <td>517</td>\n",
       "      <td>3673</td>\n",
       "      <td>1234</td>\n",
       "      <td>2779</td>\n",
       "      <td>563</td>\n",
       "      <td>5736</td>\n",
       "    </tr>\n",
       "    <tr>\n",
       "      <th>Falta de Aten��o do Pedestre</th>\n",
       "      <td>2836</td>\n",
       "      <td>403</td>\n",
       "      <td>549</td>\n",
       "      <td>492</td>\n",
       "      <td>977</td>\n",
       "      <td>415</td>\n",
       "      <td>1333</td>\n",
       "    </tr>\n",
       "    <tr>\n",
       "      <th>Ingest�o de �lcool</th>\n",
       "      <td>7941</td>\n",
       "      <td>225</td>\n",
       "      <td>2429</td>\n",
       "      <td>829</td>\n",
       "      <td>3862</td>\n",
       "      <td>596</td>\n",
       "      <td>5729</td>\n",
       "    </tr>\n",
       "    <tr>\n",
       "      <th>Ultrapassagem Indevida</th>\n",
       "      <td>2583</td>\n",
       "      <td>221</td>\n",
       "      <td>826</td>\n",
       "      <td>423</td>\n",
       "      <td>909</td>\n",
       "      <td>204</td>\n",
       "      <td>1622</td>\n",
       "    </tr>\n",
       "    <tr>\n",
       "      <th>Condutor Dormindo</th>\n",
       "      <td>3097</td>\n",
       "      <td>180</td>\n",
       "      <td>1379</td>\n",
       "      <td>444</td>\n",
       "      <td>973</td>\n",
       "      <td>121</td>\n",
       "      <td>1981</td>\n",
       "    </tr>\n",
       "    <tr>\n",
       "      <th>Desobedi�ncia �s normas de tr�nsito pelo pedestre</th>\n",
       "      <td>715</td>\n",
       "      <td>90</td>\n",
       "      <td>138</td>\n",
       "      <td>108</td>\n",
       "      <td>255</td>\n",
       "      <td>124</td>\n",
       "      <td>341</td>\n",
       "    </tr>\n",
       "    <tr>\n",
       "      <th>Defeito Mec�nico no Ve�culo</th>\n",
       "      <td>5206</td>\n",
       "      <td>87</td>\n",
       "      <td>2022</td>\n",
       "      <td>380</td>\n",
       "      <td>2501</td>\n",
       "      <td>216</td>\n",
       "      <td>3442</td>\n",
       "    </tr>\n",
       "    <tr>\n",
       "      <th>N�o guardar dist�ncia de seguran�a</th>\n",
       "      <td>7303</td>\n",
       "      <td>67</td>\n",
       "      <td>2385</td>\n",
       "      <td>447</td>\n",
       "      <td>3934</td>\n",
       "      <td>470</td>\n",
       "      <td>5623</td>\n",
       "    </tr>\n",
       "    <tr>\n",
       "      <th>Pista Escorregadia</th>\n",
       "      <td>3017</td>\n",
       "      <td>67</td>\n",
       "      <td>1538</td>\n",
       "      <td>265</td>\n",
       "      <td>1042</td>\n",
       "      <td>105</td>\n",
       "      <td>1777</td>\n",
       "    </tr>\n",
       "    <tr>\n",
       "      <th>Defeito na Via</th>\n",
       "      <td>1548</td>\n",
       "      <td>57</td>\n",
       "      <td>809</td>\n",
       "      <td>178</td>\n",
       "      <td>442</td>\n",
       "      <td>62</td>\n",
       "      <td>955</td>\n",
       "    </tr>\n",
       "    <tr>\n",
       "      <th>Animais na Pista</th>\n",
       "      <td>1978</td>\n",
       "      <td>57</td>\n",
       "      <td>880</td>\n",
       "      <td>251</td>\n",
       "      <td>712</td>\n",
       "      <td>78</td>\n",
       "      <td>1254</td>\n",
       "    </tr>\n",
       "    <tr>\n",
       "      <th>Mal S�bito</th>\n",
       "      <td>718</td>\n",
       "      <td>53</td>\n",
       "      <td>358</td>\n",
       "      <td>119</td>\n",
       "      <td>159</td>\n",
       "      <td>29</td>\n",
       "      <td>566</td>\n",
       "    </tr>\n",
       "    <tr>\n",
       "      <th>Restri��o de Visibilidade</th>\n",
       "      <td>981</td>\n",
       "      <td>44</td>\n",
       "      <td>351</td>\n",
       "      <td>133</td>\n",
       "      <td>388</td>\n",
       "      <td>65</td>\n",
       "      <td>666</td>\n",
       "    </tr>\n",
       "    <tr>\n",
       "      <th>Avarias e/ou desgaste excessivo no pneu</th>\n",
       "      <td>1295</td>\n",
       "      <td>37</td>\n",
       "      <td>728</td>\n",
       "      <td>144</td>\n",
       "      <td>343</td>\n",
       "      <td>43</td>\n",
       "      <td>727</td>\n",
       "    </tr>\n",
       "    <tr>\n",
       "      <th>Defici�ncia ou n�o Acionamento do Sistema de Ilumina��o/Sinaliza��o do Ve�culo</th>\n",
       "      <td>347</td>\n",
       "      <td>25</td>\n",
       "      <td>86</td>\n",
       "      <td>63</td>\n",
       "      <td>127</td>\n",
       "      <td>46</td>\n",
       "      <td>268</td>\n",
       "    </tr>\n",
       "    <tr>\n",
       "      <th>Ingest�o de �lcool e/ou subst�ncias psicoativas pelo pedestre</th>\n",
       "      <td>546</td>\n",
       "      <td>21</td>\n",
       "      <td>166</td>\n",
       "      <td>79</td>\n",
       "      <td>233</td>\n",
       "      <td>47</td>\n",
       "      <td>344</td>\n",
       "    </tr>\n",
       "    <tr>\n",
       "      <th>Objeto est�tico sobre o leito carro��vel</th>\n",
       "      <td>729</td>\n",
       "      <td>21</td>\n",
       "      <td>322</td>\n",
       "      <td>83</td>\n",
       "      <td>270</td>\n",
       "      <td>33</td>\n",
       "      <td>475</td>\n",
       "    </tr>\n",
       "    <tr>\n",
       "      <th>Sinaliza��o da via insuficiente ou inadequada</th>\n",
       "      <td>421</td>\n",
       "      <td>16</td>\n",
       "      <td>156</td>\n",
       "      <td>55</td>\n",
       "      <td>171</td>\n",
       "      <td>23</td>\n",
       "      <td>284</td>\n",
       "    </tr>\n",
       "    <tr>\n",
       "      <th>Agress�o Externa</th>\n",
       "      <td>543</td>\n",
       "      <td>13</td>\n",
       "      <td>189</td>\n",
       "      <td>50</td>\n",
       "      <td>227</td>\n",
       "      <td>64</td>\n",
       "      <td>337</td>\n",
       "    </tr>\n",
       "    <tr>\n",
       "      <th>Ingest�o de Subst�ncias Psicoativas</th>\n",
       "      <td>145</td>\n",
       "      <td>6</td>\n",
       "      <td>35</td>\n",
       "      <td>13</td>\n",
       "      <td>77</td>\n",
       "      <td>14</td>\n",
       "      <td>100</td>\n",
       "    </tr>\n",
       "    <tr>\n",
       "      <th>Fen�menos da Natureza</th>\n",
       "      <td>290</td>\n",
       "      <td>6</td>\n",
       "      <td>110</td>\n",
       "      <td>29</td>\n",
       "      <td>132</td>\n",
       "      <td>13</td>\n",
       "      <td>209</td>\n",
       "    </tr>\n",
       "    <tr>\n",
       "      <th>Carga excessiva e/ou mal acondicionada</th>\n",
       "      <td>408</td>\n",
       "      <td>5</td>\n",
       "      <td>153</td>\n",
       "      <td>26</td>\n",
       "      <td>206</td>\n",
       "      <td>18</td>\n",
       "      <td>338</td>\n",
       "    </tr>\n",
       "  </tbody>\n",
       "</table>\n",
       "</div>"
      ],
      "text/plain": [
       "                                                    pessoas  mortos  \\\n",
       "causa_acidente                                                        \n",
       "Falta de Aten��o � Condu��o                           36548     860   \n",
       "Desobedi�ncia �s normas de tr�nsito pelo condutor     16422     599   \n",
       "Velocidade Incompat�vel                                8766     517   \n",
       "Falta de Aten��o do Pedestre                           2836     403   \n",
       "Ingest�o de �lcool                                     7941     225   \n",
       "Ultrapassagem Indevida                                 2583     221   \n",
       "Condutor Dormindo                                      3097     180   \n",
       "Desobedi�ncia �s normas de tr�nsito pelo pedestre       715      90   \n",
       "Defeito Mec�nico no Ve�culo                            5206      87   \n",
       "N�o guardar dist�ncia de seguran�a                     7303      67   \n",
       "Pista Escorregadia                                     3017      67   \n",
       "Defeito na Via                                         1548      57   \n",
       "Animais na Pista                                       1978      57   \n",
       "Mal S�bito                                              718      53   \n",
       "Restri��o de Visibilidade                               981      44   \n",
       "Avarias e/ou desgaste excessivo no pneu                1295      37   \n",
       "Defici�ncia ou n�o Acionamento do Sistema de Il...      347      25   \n",
       "Ingest�o de �lcool e/ou subst�ncias psicoativas...      546      21   \n",
       "Objeto est�tico sobre o leito carro��vel                729      21   \n",
       "Sinaliza��o da via insuficiente ou inadequada           421      16   \n",
       "Agress�o Externa                                        543      13   \n",
       "Ingest�o de Subst�ncias Psicoativas                     145       6   \n",
       "Fen�menos da Natureza                                   290       6   \n",
       "Carga excessiva e/ou mal acondicionada                  408       5   \n",
       "\n",
       "                                                    feridos_leves  \\\n",
       "causa_acidente                                                      \n",
       "Falta de Aten��o � Condu��o                                 14011   \n",
       "Desobedi�ncia �s normas de tr�nsito pelo condutor            5345   \n",
       "Velocidade Incompat�vel                                      3673   \n",
       "Falta de Aten��o do Pedestre                                  549   \n",
       "Ingest�o de �lcool                                           2429   \n",
       "Ultrapassagem Indevida                                        826   \n",
       "Condutor Dormindo                                            1379   \n",
       "Desobedi�ncia �s normas de tr�nsito pelo pedestre             138   \n",
       "Defeito Mec�nico no Ve�culo                                  2022   \n",
       "N�o guardar dist�ncia de seguran�a                           2385   \n",
       "Pista Escorregadia                                           1538   \n",
       "Defeito na Via                                                809   \n",
       "Animais na Pista                                              880   \n",
       "Mal S�bito                                                    358   \n",
       "Restri��o de Visibilidade                                     351   \n",
       "Avarias e/ou desgaste excessivo no pneu                       728   \n",
       "Defici�ncia ou n�o Acionamento do Sistema de Il...             86   \n",
       "Ingest�o de �lcool e/ou subst�ncias psicoativas...            166   \n",
       "Objeto est�tico sobre o leito carro��vel                      322   \n",
       "Sinaliza��o da via insuficiente ou inadequada                 156   \n",
       "Agress�o Externa                                              189   \n",
       "Ingest�o de Subst�ncias Psicoativas                            35   \n",
       "Fen�menos da Natureza                                         110   \n",
       "Carga excessiva e/ou mal acondicionada                        153   \n",
       "\n",
       "                                                    feridos_graves  ilesos  \\\n",
       "causa_acidente                                                               \n",
       "Falta de Aten��o � Condu��o                                   3869   15398   \n",
       "Desobedi�ncia �s normas de tr�nsito pelo condutor             2127    7029   \n",
       "Velocidade Incompat�vel                                       1234    2779   \n",
       "Falta de Aten��o do Pedestre                                   492     977   \n",
       "Ingest�o de �lcool                                             829    3862   \n",
       "Ultrapassagem Indevida                                         423     909   \n",
       "Condutor Dormindo                                              444     973   \n",
       "Desobedi�ncia �s normas de tr�nsito pelo pedestre              108     255   \n",
       "Defeito Mec�nico no Ve�culo                                    380    2501   \n",
       "N�o guardar dist�ncia de seguran�a                             447    3934   \n",
       "Pista Escorregadia                                             265    1042   \n",
       "Defeito na Via                                                 178     442   \n",
       "Animais na Pista                                               251     712   \n",
       "Mal S�bito                                                     119     159   \n",
       "Restri��o de Visibilidade                                      133     388   \n",
       "Avarias e/ou desgaste excessivo no pneu                        144     343   \n",
       "Defici�ncia ou n�o Acionamento do Sistema de Il...              63     127   \n",
       "Ingest�o de �lcool e/ou subst�ncias psicoativas...              79     233   \n",
       "Objeto est�tico sobre o leito carro��vel                        83     270   \n",
       "Sinaliza��o da via insuficiente ou inadequada                   55     171   \n",
       "Agress�o Externa                                                50     227   \n",
       "Ingest�o de Subst�ncias Psicoativas                             13      77   \n",
       "Fen�menos da Natureza                                           29     132   \n",
       "Carga excessiva e/ou mal acondicionada                          26     206   \n",
       "\n",
       "                                                    ignorados  veiculos  \n",
       "causa_acidente                                                           \n",
       "Falta de Aten��o � Condu��o                              2410     27388  \n",
       "Desobedi�ncia �s normas de tr�nsito pelo condutor        1322     12312  \n",
       "Velocidade Incompat�vel                                   563      5736  \n",
       "Falta de Aten��o do Pedestre                              415      1333  \n",
       "Ingest�o de �lcool                                        596      5729  \n",
       "Ultrapassagem Indevida                                    204      1622  \n",
       "Condutor Dormindo                                         121      1981  \n",
       "Desobedi�ncia �s normas de tr�nsito pelo pedestre         124       341  \n",
       "Defeito Mec�nico no Ve�culo                               216      3442  \n",
       "N�o guardar dist�ncia de seguran�a                        470      5623  \n",
       "Pista Escorregadia                                        105      1777  \n",
       "Defeito na Via                                             62       955  \n",
       "Animais na Pista                                           78      1254  \n",
       "Mal S�bito                                                 29       566  \n",
       "Restri��o de Visibilidade                                  65       666  \n",
       "Avarias e/ou desgaste excessivo no pneu                    43       727  \n",
       "Defici�ncia ou n�o Acionamento do Sistema de Il...         46       268  \n",
       "Ingest�o de �lcool e/ou subst�ncias psicoativas...         47       344  \n",
       "Objeto est�tico sobre o leito carro��vel                   33       475  \n",
       "Sinaliza��o da via insuficiente ou inadequada              23       284  \n",
       "Agress�o Externa                                           64       337  \n",
       "Ingest�o de Subst�ncias Psicoativas                        14       100  \n",
       "Fen�menos da Natureza                                      13       209  \n",
       "Carga excessiva e/ou mal acondicionada                     18       338  "
      ]
     },
     "execution_count": 473,
     "metadata": {},
     "output_type": "execute_result"
    }
   ],
   "source": [
    "acidentes = df[['pessoas','mortos','feridos_leves','feridos_graves','ilesos','ignorados','veiculos','causa_acidente' ]].groupby(by = 'causa_acidente').sum().sort_values(by = 'mortos', ascending = False)\n",
    "\n",
    "acidentes"
   ]
  },
  {
   "cell_type": "code",
   "execution_count": 474,
   "metadata": {},
   "outputs": [
    {
     "data": {
      "text/plain": [
       "<matplotlib.axes._subplots.AxesSubplot at 0x7f4a9c75bd50>"
      ]
     },
     "execution_count": 474,
     "metadata": {},
     "output_type": "execute_result"
    },
    {
     "data": {
      "image/png": "[encoded data removed]",
      "text/plain": [
       "<Figure size 432x288 with 1 Axes>"
      ]
     },
     "metadata": {
      "needs_background": "light"
     },
     "output_type": "display_data"
    }
   ],
   "source": [
    "df['pessoas'].plot.hist(bins=73)"
   ]
  },
  {
   "cell_type": "code",
   "execution_count": 475,
   "metadata": {},
   "outputs": [
    {
     "data": {
      "text/plain": [
       "<matplotlib.axes._subplots.AxesSubplot at 0x7f4a9c70ff90>"
      ]
     },
     "execution_count": 475,
     "metadata": {},
     "output_type": "execute_result"
    },
    {
     "data": {
      "image/png": "[encoded data removed]",
      "text/plain": [
       "<Figure size 432x288 with 1 Axes>"
      ]
     },
     "metadata": {
      "needs_background": "light"
     },
     "output_type": "display_data"
    }
   ],
   "source": [
    "df['mortos'].plot.hist(bins=12)"
   ]
  },
  {
   "cell_type": "code",
   "execution_count": 476,
   "metadata": {},
   "outputs": [
    {
     "data": {
      "text/plain": [
       "<matplotlib.axes._subplots.AxesSubplot at 0x7f4a9c5886d0>"
      ]
     },
     "execution_count": 476,
     "metadata": {},
     "output_type": "execute_result"
    },
    {
     "data": {
      "image/png": "[encoded data removed]",
      "text/plain": [
       "<Figure size 432x288 with 1 Axes>"
      ]
     },
     "metadata": {
      "needs_background": "light"
     },
     "output_type": "display_data"
    }
   ],
   "source": [
    "df['feridos_leves'].plot.hist(bins=42)"
   ]
  },
  {
   "cell_type": "code",
   "execution_count": 477,
   "metadata": {},
   "outputs": [
    {
     "data": {
      "text/plain": [
       "<matplotlib.axes._subplots.AxesSubplot at 0x7f4a9c53cf50>"
      ]
     },
     "execution_count": 477,
     "metadata": {},
     "output_type": "execute_result"
    },
    {
     "data": {
      "image/png": "[encoded data removed]",
      "text/plain": [
       "<Figure size 432x288 with 1 Axes>"
      ]
     },
     "metadata": {
      "needs_background": "light"
     },
     "output_type": "display_data"
    }
   ],
   "source": [
    "df['feridos_graves'].plot.hist(bins=17)"
   ]
  },
  {
   "cell_type": "code",
   "execution_count": 478,
   "metadata": {},
   "outputs": [
    {
     "data": {
      "text/plain": [
       "<matplotlib.axes._subplots.AxesSubplot at 0x7f4a9c4946d0>"
      ]
     },
     "execution_count": 478,
     "metadata": {},
     "output_type": "execute_result"
    },
    {
     "data": {
      "image/png": "[encoded data removed]",
      "text/plain": [
       "<Figure size 432x288 with 1 Axes>"
      ]
     },
     "metadata": {
      "needs_background": "light"
     },
     "output_type": "display_data"
    }
   ],
   "source": [
    "df['ilesos'].plot.hist(bins=73)"
   ]
  },
  {
   "cell_type": "code",
   "execution_count": 479,
   "metadata": {},
   "outputs": [
    {
     "data": {
      "text/plain": [
       "<matplotlib.axes._subplots.AxesSubplot at 0x7f4a9c320090>"
      ]
     },
     "execution_count": 479,
     "metadata": {},
     "output_type": "execute_result"
    },
    {
     "data": {
      "image/png": "[encoded data removed]",
      "text/plain": [
       "<Figure size 432x288 with 1 Axes>"
      ]
     },
     "metadata": {
      "needs_background": "light"
     },
     "output_type": "display_data"
    }
   ],
   "source": [
    "df['ignorados'].plot.hist(bins=11)"
   ]
  },
  {
   "cell_type": "code",
   "execution_count": 480,
   "metadata": {},
   "outputs": [
    {
     "data": {
      "text/plain": [
       "<matplotlib.axes._subplots.AxesSubplot at 0x7f4a9c26be90>"
      ]
     },
     "execution_count": 480,
     "metadata": {},
     "output_type": "execute_result"
    },
    {
     "data": {
      "image/png": "[encoded data removed]",
      "text/plain": [
       "<Figure size 432x288 with 1 Axes>"
      ]
     },
     "metadata": {
      "needs_background": "light"
     },
     "output_type": "display_data"
    }
   ],
   "source": [
    "df['feridos'].plot.hist(bins=44)"
   ]
  },
  {
   "cell_type": "code",
   "execution_count": 481,
   "metadata": {},
   "outputs": [
    {
     "data": {
      "text/plain": [
       "<matplotlib.axes._subplots.AxesSubplot at 0x7f4a9c1a3910>"
      ]
     },
     "execution_count": 481,
     "metadata": {},
     "output_type": "execute_result"
    },
    {
     "data": {
      "image/png": "[encoded data removed]",
      "text/plain": [
       "<Figure size 432x288 with 1 Axes>"
      ]
     },
     "metadata": {
      "needs_background": "light"
     },
     "output_type": "display_data"
    }
   ],
   "source": [
    "df['veiculos'].plot.hist(bins=23)"
   ]
  },
  {
   "cell_type": "markdown",
   "metadata": {},
   "source": [
    "# Medidas de Centralidade e Dispersão"
   ]
  },
  {
   "cell_type": "markdown",
   "metadata": {},
   "source": [
    "**Utilizando .select_dtypes para retornar as colunas numéricas, e criando um dataframe com as medidas de centralidade e dispersão dessas colunas.**"
   ]
  },
  {
   "cell_type": "code",
   "execution_count": 511,
   "metadata": {},
   "outputs": [
    {
     "data": {
      "text/html": [
       "<div>\n",
       "<style scoped>\n",
       "    .dataframe tbody tr th:only-of-type {\n",
       "        vertical-align: middle;\n",
       "    }\n",
       "\n",
       "    .dataframe tbody tr th {\n",
       "        vertical-align: top;\n",
       "    }\n",
       "\n",
       "    .dataframe thead th {\n",
       "        text-align: right;\n",
       "    }\n",
       "</style>\n",
       "<table border=\"1\" class=\"dataframe\">\n",
       "  <thead>\n",
       "    <tr style=\"text-align: right;\">\n",
       "      <th></th>\n",
       "      <th>Máximo</th>\n",
       "      <th>Média</th>\n",
       "      <th>Mediana</th>\n",
       "      <th>Moda</th>\n",
       "      <th>Desvio Padrão</th>\n",
       "    </tr>\n",
       "  </thead>\n",
       "  <tbody>\n",
       "    <tr>\n",
       "      <th>pessoas</th>\n",
       "      <td>73</td>\n",
       "      <td>2.300807</td>\n",
       "      <td>2.0</td>\n",
       "      <td>2</td>\n",
       "      <td>1.700060</td>\n",
       "    </tr>\n",
       "    <tr>\n",
       "      <th>mortos</th>\n",
       "      <td>12</td>\n",
       "      <td>0.081048</td>\n",
       "      <td>0.0</td>\n",
       "      <td>0</td>\n",
       "      <td>0.332745</td>\n",
       "    </tr>\n",
       "    <tr>\n",
       "      <th>feridos_leves</th>\n",
       "      <td>42</td>\n",
       "      <td>0.851658</td>\n",
       "      <td>1.0</td>\n",
       "      <td>1</td>\n",
       "      <td>1.013929</td>\n",
       "    </tr>\n",
       "    <tr>\n",
       "      <th>feridos_graves</th>\n",
       "      <td>17</td>\n",
       "      <td>0.260999</td>\n",
       "      <td>0.0</td>\n",
       "      <td>0</td>\n",
       "      <td>0.585655</td>\n",
       "    </tr>\n",
       "    <tr>\n",
       "      <th>ilesos</th>\n",
       "      <td>73</td>\n",
       "      <td>0.951023</td>\n",
       "      <td>1.0</td>\n",
       "      <td>1</td>\n",
       "      <td>1.330344</td>\n",
       "    </tr>\n",
       "    <tr>\n",
       "      <th>ignorados</th>\n",
       "      <td>11</td>\n",
       "      <td>0.156079</td>\n",
       "      <td>0.0</td>\n",
       "      <td>0</td>\n",
       "      <td>0.431112</td>\n",
       "    </tr>\n",
       "    <tr>\n",
       "      <th>feridos</th>\n",
       "      <td>44</td>\n",
       "      <td>1.112656</td>\n",
       "      <td>1.0</td>\n",
       "      <td>1</td>\n",
       "      <td>1.112366</td>\n",
       "    </tr>\n",
       "    <tr>\n",
       "      <th>veiculos</th>\n",
       "      <td>23</td>\n",
       "      <td>1.626852</td>\n",
       "      <td>2.0</td>\n",
       "      <td>1</td>\n",
       "      <td>0.724634</td>\n",
       "    </tr>\n",
       "  </tbody>\n",
       "</table>\n",
       "</div>"
      ],
      "text/plain": [
       "                Máximo     Média  Mediana  Moda  Desvio Padrão\n",
       "pessoas             73  2.300807      2.0     2       1.700060\n",
       "mortos              12  0.081048      0.0     0       0.332745\n",
       "feridos_leves       42  0.851658      1.0     1       1.013929\n",
       "feridos_graves      17  0.260999      0.0     0       0.585655\n",
       "ilesos              73  0.951023      1.0     1       1.330344\n",
       "ignorados           11  0.156079      0.0     0       0.431112\n",
       "feridos             44  1.112656      1.0     1       1.112366\n",
       "veiculos            23  1.626852      2.0     1       0.724634"
      ]
     },
     "execution_count": 511,
     "metadata": {},
     "output_type": "execute_result"
    }
   ],
   "source": [
    "\n",
    "measures = pd.DataFrame()\n",
    "\n",
    "measures['Máximo'] = df.select_dtypes(include=['int64']).max()\n",
    "\n",
    "measures['Média'] = df.select_dtypes(include=['int64']).mean()\n",
    "\n",
    "measures['Mediana'] = df.select_dtypes(include=['int64']).median()\n",
    "\n",
    "d = df.select_dtypes(include=['int64']).mode()\n",
    "\n",
    "measures['Moda'] = d.iloc[0] \n",
    "\n",
    "measures['Desvio Padrão'] = df.select_dtypes(include=['int64']).std()\n",
    "\n",
    "measures = measures.drop(['br'])\n",
    "\n",
    "measures\n",
    "              \n",
    "\n"
   ]
  },
  {
   "cell_type": "code",
   "execution_count": 483,
   "metadata": {},
   "outputs": [
    {
     "data": {
      "text/plain": [
       "<matplotlib.axes._subplots.AxesSubplot at 0x7f4a9c13ee50>"
      ]
     },
     "execution_count": 483,
     "metadata": {},
     "output_type": "execute_result"
    },
    {
     "data": {
      "image/png": "[encoded data removed]",
      "text/plain": [
       "<Figure size 432x288 with 1 Axes>"
      ]
     },
     "metadata": {
      "needs_background": "light"
     },
     "output_type": "display_data"
    }
   ],
   "source": [
    "measures.iloc[:,1:].plot.bar()"
   ]
  },
  {
   "cell_type": "markdown",
   "metadata": {},
   "source": [
    "**Usando a função .boxplot() para plotar os boxplots do dataframe formado pelas colunas numéricas.**"
   ]
  },
  {
   "cell_type": "code",
   "execution_count": 484,
   "metadata": {},
   "outputs": [
    {
     "data": {
      "text/plain": [
       "<matplotlib.axes._subplots.AxesSubplot at 0x7f4a9c02e490>"
      ]
     },
     "execution_count": 484,
     "metadata": {},
     "output_type": "execute_result"
    },
    {
     "data": {
      "image/png": "[encoded data removed]",
      "text/plain": [
       "<Figure size 432x288 with 1 Axes>"
      ]
     },
     "metadata": {
      "needs_background": "light"
     },
     "output_type": "display_data"
    }
   ],
   "source": [
    "df.select_dtypes(include=['int64']).iloc[:,:4].boxplot()"
   ]
  },
  {
   "cell_type": "code",
   "execution_count": 485,
   "metadata": {},
   "outputs": [
    {
     "data": {
      "text/plain": [
       "<matplotlib.axes._subplots.AxesSubplot at 0x7f4a9bf63d10>"
      ]
     },
     "execution_count": 485,
     "metadata": {},
     "output_type": "execute_result"
    },
    {
     "data": {
      "image/png": "[encoded data removed]",
      "text/plain": [
       "<Figure size 432x288 with 1 Axes>"
      ]
     },
     "metadata": {
      "needs_background": "light"
     },
     "output_type": "display_data"
    }
   ],
   "source": [
    "df.select_dtypes(include=['int64']).iloc[:,4:].boxplot()"
   ]
  },
  {
   "cell_type": "markdown",
   "metadata": {},
   "source": [
    "# Categorização dos dados recebidos"
   ]
  },
  {
   "cell_type": "markdown",
   "metadata": {},
   "source": [
    "**Organização em grupo das causas de acidentes e a quantidade de acidentes ,em forma decrescente, em cada causa do acidente.**\n"
   ]
  },
  {
   "cell_type": "code",
   "execution_count": 486,
   "metadata": {},
   "outputs": [
    {
     "data": {
      "text/plain": [
       "causa_acidente\n",
       "Falta de Aten��o � Condu��o                                                       15899\n",
       "Desobedi�ncia �s normas de tr�nsito pelo condutor                                  6251\n",
       "Velocidade Incompat�vel                                                            4190\n",
       "Ingest�o de �lcool                                                                 3662\n",
       "Defeito Mec�nico no Ve�culo                                                        2729\n",
       "N�o guardar dist�ncia de seguran�a                                                 2516\n",
       "Condutor Dormindo                                                                  1494\n",
       "Pista Escorregadia                                                                 1410\n",
       "Falta de Aten��o do Pedestre                                                       1205\n",
       "Animais na Pista                                                                   1072\n",
       "Ultrapassagem Indevida                                                              790\n",
       "Defeito na Via                                                                      781\n",
       "Avarias e/ou desgaste excessivo no pneu                                             640\n",
       "Mal S�bito                                                                          441\n",
       "Restri��o de Visibilidade                                                           386\n",
       "Objeto est�tico sobre o leito carro��vel                                            318\n",
       "Desobedi�ncia �s normas de tr�nsito pelo pedestre                                   286\n",
       "Carga excessiva e/ou mal acondicionada                                              266\n",
       "Ingest�o de �lcool e/ou subst�ncias psicoativas pelo pedestre                       256\n",
       "Agress�o Externa                                                                    255\n",
       "Sinaliza��o da via insuficiente ou inadequada                                       174\n",
       "Fen�menos da Natureza                                                               149\n",
       "Defici�ncia ou n�o Acionamento do Sistema de Ilumina��o/Sinaliza��o do Ve�culo      137\n",
       "Ingest�o de Subst�ncias Psicoativas                                                  61\n",
       "dtype: int64"
      ]
     },
     "execution_count": 486,
     "metadata": {},
     "output_type": "execute_result"
    }
   ],
   "source": [
    "df.groupby('causa_acidente').size().sort_values(ascending = False)"
   ]
  },
  {
   "cell_type": "markdown",
   "metadata": {},
   "source": [
    "**Organização em grupo dos tipos de acidentes e a quantidade de acidentes ,em forma decrescente, em cada tipo de acidente.**\n"
   ]
  },
  {
   "cell_type": "code",
   "execution_count": 487,
   "metadata": {},
   "outputs": [
    {
     "data": {
      "text/plain": [
       "tipo_acidente\n",
       "Colis�o traseira                   8086\n",
       "Sa�da de leito carro��vel          7445\n",
       "Colis�o transversal                5608\n",
       "Colis�o lateral                    5279\n",
       "Tombamento                         4058\n",
       "Colis�o com objeto est�tico        3526\n",
       "Colis�o frontal                    3068\n",
       "Atropelamento de Pedestre          2078\n",
       "Queda de ocupante de ve�culo       2051\n",
       "Capotamento                        1306\n",
       "Atropelamento de Animal             880\n",
       "Inc�ndio                            836\n",
       "Engavetamento                       626\n",
       "Colis�o com objeto em movimento     189\n",
       "Danos eventuais                     180\n",
       "Derramamento de carga               152\n",
       "dtype: int64"
      ]
     },
     "execution_count": 487,
     "metadata": {},
     "output_type": "execute_result"
    }
   ],
   "source": [
    "df.groupby('tipo_acidente').size().sort_values(ascending = False)"
   ]
  },
  {
   "cell_type": "code",
   "execution_count": 488,
   "metadata": {},
   "outputs": [
    {
     "data": {
      "text/plain": [
       "<matplotlib.axes._subplots.AxesSubplot at 0x7f4a9bea5950>"
      ]
     },
     "execution_count": 488,
     "metadata": {},
     "output_type": "execute_result"
    },
    {
     "data": {
      "image/png": "[encoded data removed]",
      "text/plain": [
       "<Figure size 432x288 with 1 Axes>"
      ]
     },
     "metadata": {
      "needs_background": "light"
     },
     "output_type": "display_data"
    }
   ],
   "source": [
    "types = df.groupby('tipo_acidente').size().sort_values(ascending = True)\n",
    "\n",
    "\n",
    "types.plot.barh()"
   ]
  },
  {
   "cell_type": "markdown",
   "metadata": {},
   "source": [
    "**Organização dos municipios e a quantidade de acidentes ,em forma decrescente, em cada municipio.**\n"
   ]
  },
  {
   "cell_type": "code",
   "execution_count": 489,
   "metadata": {},
   "outputs": [
    {
     "data": {
      "text/html": [
       "<div>\n",
       "<style scoped>\n",
       "    .dataframe tbody tr th:only-of-type {\n",
       "        vertical-align: middle;\n",
       "    }\n",
       "\n",
       "    .dataframe tbody tr th {\n",
       "        vertical-align: top;\n",
       "    }\n",
       "\n",
       "    .dataframe thead th {\n",
       "        text-align: right;\n",
       "    }\n",
       "</style>\n",
       "<table border=\"1\" class=\"dataframe\">\n",
       "  <thead>\n",
       "    <tr style=\"text-align: right;\">\n",
       "      <th></th>\n",
       "      <th>Quantidade</th>\n",
       "    </tr>\n",
       "    <tr>\n",
       "      <th>municipio</th>\n",
       "      <th></th>\n",
       "    </tr>\n",
       "  </thead>\n",
       "  <tbody>\n",
       "    <tr>\n",
       "      <th>BRASILIA</th>\n",
       "      <td>757</td>\n",
       "    </tr>\n",
       "    <tr>\n",
       "      <th>CURITIBA</th>\n",
       "      <td>700</td>\n",
       "    </tr>\n",
       "    <tr>\n",
       "      <th>SAO JOSE</th>\n",
       "      <td>456</td>\n",
       "    </tr>\n",
       "    <tr>\n",
       "      <th>GUARULHOS</th>\n",
       "      <td>452</td>\n",
       "    </tr>\n",
       "    <tr>\n",
       "      <th>PALHOCA</th>\n",
       "      <td>426</td>\n",
       "    </tr>\n",
       "    <tr>\n",
       "      <th>SERRA</th>\n",
       "      <td>377</td>\n",
       "    </tr>\n",
       "    <tr>\n",
       "      <th>DUQUE DE CAXIAS</th>\n",
       "      <td>373</td>\n",
       "    </tr>\n",
       "    <tr>\n",
       "      <th>BETIM</th>\n",
       "      <td>373</td>\n",
       "    </tr>\n",
       "    <tr>\n",
       "      <th>PORTO VELHO</th>\n",
       "      <td>316</td>\n",
       "    </tr>\n",
       "    <tr>\n",
       "      <th>RECIFE</th>\n",
       "      <td>300</td>\n",
       "    </tr>\n",
       "    <tr>\n",
       "      <th>SAO JOSE DOS PINHAIS</th>\n",
       "      <td>294</td>\n",
       "    </tr>\n",
       "    <tr>\n",
       "      <th>UBERLANDIA</th>\n",
       "      <td>272</td>\n",
       "    </tr>\n",
       "    <tr>\n",
       "      <th>CARIACICA</th>\n",
       "      <td>255</td>\n",
       "    </tr>\n",
       "    <tr>\n",
       "      <th>MARINGA</th>\n",
       "      <td>236</td>\n",
       "    </tr>\n",
       "    <tr>\n",
       "      <th>CASCAVEL</th>\n",
       "      <td>231</td>\n",
       "    </tr>\n",
       "    <tr>\n",
       "      <th>TERESINA</th>\n",
       "      <td>227</td>\n",
       "    </tr>\n",
       "    <tr>\n",
       "      <th>JOAO PESSOA</th>\n",
       "      <td>226</td>\n",
       "    </tr>\n",
       "    <tr>\n",
       "      <th>LINHARES</th>\n",
       "      <td>225</td>\n",
       "    </tr>\n",
       "    <tr>\n",
       "      <th>UBERABA</th>\n",
       "      <td>221</td>\n",
       "    </tr>\n",
       "    <tr>\n",
       "      <th>SAO PAULO</th>\n",
       "      <td>213</td>\n",
       "    </tr>\n",
       "  </tbody>\n",
       "</table>\n",
       "</div>"
      ],
      "text/plain": [
       "                      Quantidade\n",
       "municipio                       \n",
       "BRASILIA                     757\n",
       "CURITIBA                     700\n",
       "SAO JOSE                     456\n",
       "GUARULHOS                    452\n",
       "PALHOCA                      426\n",
       "SERRA                        377\n",
       "DUQUE DE CAXIAS              373\n",
       "BETIM                        373\n",
       "PORTO VELHO                  316\n",
       "RECIFE                       300\n",
       "SAO JOSE DOS PINHAIS         294\n",
       "UBERLANDIA                   272\n",
       "CARIACICA                    255\n",
       "MARINGA                      236\n",
       "CASCAVEL                     231\n",
       "TERESINA                     227\n",
       "JOAO PESSOA                  226\n",
       "LINHARES                     225\n",
       "UBERABA                      221\n",
       "SAO PAULO                    213"
      ]
     },
     "execution_count": 489,
     "metadata": {},
     "output_type": "execute_result"
    }
   ],
   "source": [
    "df.groupby('municipio').size().sort_values(ascending = False)[0:20].to_frame().rename(columns={0:'Quantidade'})"
   ]
  },
  {
   "cell_type": "code",
   "execution_count": 490,
   "metadata": {},
   "outputs": [
    {
     "data": {
      "text/plain": [
       "<matplotlib.axes._subplots.AxesSubplot at 0x7f4a9bde4290>"
      ]
     },
     "execution_count": 490,
     "metadata": {},
     "output_type": "execute_result"
    },
    {
     "data": {
      "image/png": "[encoded data removed]",
      "text/plain": [
       "<Figure size 432x288 with 1 Axes>"
      ]
     },
     "metadata": {
      "needs_background": "light"
     },
     "output_type": "display_data"
    }
   ],
   "source": [
    "cities = df.groupby('municipio').size().sort_values(ascending = True)[-20:].to_frame().rename(columns={0:'Quantidade'})\n",
    "\n",
    "cities.plot.barh()"
   ]
  },
  {
   "cell_type": "markdown",
   "metadata": {},
   "source": [
    "**Organização das Unidades Federativas e a quantidade de acidentes ,em forma decrescente, em cada Unidade Federativa.**\n"
   ]
  },
  {
   "cell_type": "code",
   "execution_count": 491,
   "metadata": {},
   "outputs": [
    {
     "data": {
      "text/html": [
       "<div>\n",
       "<style scoped>\n",
       "    .dataframe tbody tr th:only-of-type {\n",
       "        vertical-align: middle;\n",
       "    }\n",
       "\n",
       "    .dataframe tbody tr th {\n",
       "        vertical-align: top;\n",
       "    }\n",
       "\n",
       "    .dataframe thead th {\n",
       "        text-align: right;\n",
       "    }\n",
       "</style>\n",
       "<table border=\"1\" class=\"dataframe\">\n",
       "  <thead>\n",
       "    <tr style=\"text-align: right;\">\n",
       "      <th></th>\n",
       "      <th>Quantidade</th>\n",
       "    </tr>\n",
       "    <tr>\n",
       "      <th>uf</th>\n",
       "      <th></th>\n",
       "    </tr>\n",
       "  </thead>\n",
       "  <tbody>\n",
       "    <tr>\n",
       "      <th>MG</th>\n",
       "      <td>5934</td>\n",
       "    </tr>\n",
       "    <tr>\n",
       "      <th>SC</th>\n",
       "      <td>5261</td>\n",
       "    </tr>\n",
       "    <tr>\n",
       "      <th>PR</th>\n",
       "      <td>5201</td>\n",
       "    </tr>\n",
       "    <tr>\n",
       "      <th>RS</th>\n",
       "      <td>3018</td>\n",
       "    </tr>\n",
       "    <tr>\n",
       "      <th>RJ</th>\n",
       "      <td>2982</td>\n",
       "    </tr>\n",
       "    <tr>\n",
       "      <th>SP</th>\n",
       "      <td>2844</td>\n",
       "    </tr>\n",
       "    <tr>\n",
       "      <th>BA</th>\n",
       "      <td>2479</td>\n",
       "    </tr>\n",
       "    <tr>\n",
       "      <th>GO</th>\n",
       "      <td>2336</td>\n",
       "    </tr>\n",
       "    <tr>\n",
       "      <th>PE</th>\n",
       "      <td>1827</td>\n",
       "    </tr>\n",
       "    <tr>\n",
       "      <th>ES</th>\n",
       "      <td>1796</td>\n",
       "    </tr>\n",
       "    <tr>\n",
       "      <th>MT</th>\n",
       "      <td>1561</td>\n",
       "    </tr>\n",
       "    <tr>\n",
       "      <th>RO</th>\n",
       "      <td>1113</td>\n",
       "    </tr>\n",
       "    <tr>\n",
       "      <th>CE</th>\n",
       "      <td>1084</td>\n",
       "    </tr>\n",
       "    <tr>\n",
       "      <th>MS</th>\n",
       "      <td>1058</td>\n",
       "    </tr>\n",
       "    <tr>\n",
       "      <th>PB</th>\n",
       "      <td>988</td>\n",
       "    </tr>\n",
       "    <tr>\n",
       "      <th>RN</th>\n",
       "      <td>935</td>\n",
       "    </tr>\n",
       "    <tr>\n",
       "      <th>PI</th>\n",
       "      <td>816</td>\n",
       "    </tr>\n",
       "    <tr>\n",
       "      <th>MA</th>\n",
       "      <td>780</td>\n",
       "    </tr>\n",
       "    <tr>\n",
       "      <th>DF</th>\n",
       "      <td>757</td>\n",
       "    </tr>\n",
       "    <tr>\n",
       "      <th>PA</th>\n",
       "      <td>717</td>\n",
       "    </tr>\n",
       "    <tr>\n",
       "      <th>AL</th>\n",
       "      <td>453</td>\n",
       "    </tr>\n",
       "    <tr>\n",
       "      <th>TO</th>\n",
       "      <td>418</td>\n",
       "    </tr>\n",
       "    <tr>\n",
       "      <th>SE</th>\n",
       "      <td>413</td>\n",
       "    </tr>\n",
       "    <tr>\n",
       "      <th>AC</th>\n",
       "      <td>213</td>\n",
       "    </tr>\n",
       "    <tr>\n",
       "      <th>RR</th>\n",
       "      <td>181</td>\n",
       "    </tr>\n",
       "    <tr>\n",
       "      <th>AM</th>\n",
       "      <td>102</td>\n",
       "    </tr>\n",
       "    <tr>\n",
       "      <th>AP</th>\n",
       "      <td>101</td>\n",
       "    </tr>\n",
       "  </tbody>\n",
       "</table>\n",
       "</div>"
      ],
      "text/plain": [
       "    Quantidade\n",
       "uf            \n",
       "MG        5934\n",
       "SC        5261\n",
       "PR        5201\n",
       "RS        3018\n",
       "RJ        2982\n",
       "SP        2844\n",
       "BA        2479\n",
       "GO        2336\n",
       "PE        1827\n",
       "ES        1796\n",
       "MT        1561\n",
       "RO        1113\n",
       "CE        1084\n",
       "MS        1058\n",
       "PB         988\n",
       "RN         935\n",
       "PI         816\n",
       "MA         780\n",
       "DF         757\n",
       "PA         717\n",
       "AL         453\n",
       "TO         418\n",
       "SE         413\n",
       "AC         213\n",
       "RR         181\n",
       "AM         102\n",
       "AP         101"
      ]
     },
     "execution_count": 491,
     "metadata": {},
     "output_type": "execute_result"
    }
   ],
   "source": [
    "df.groupby('uf').size().sort_values(ascending = False).to_frame().rename(columns={0:'Quantidade'})"
   ]
  },
  {
   "cell_type": "code",
   "execution_count": 492,
   "metadata": {},
   "outputs": [
    {
     "data": {
      "text/plain": [
       "<matplotlib.axes._subplots.AxesSubplot at 0x7f4a9bd96d90>"
      ]
     },
     "execution_count": 492,
     "metadata": {},
     "output_type": "execute_result"
    },
    {
     "data": {
      "image/png": "[encoded data removed]",
      "text/plain": [
       "<Figure size 432x288 with 1 Axes>"
      ]
     },
     "metadata": {
      "needs_background": "light"
     },
     "output_type": "display_data"
    }
   ],
   "source": [
    "states = df.groupby('uf').size().sort_values(ascending = True).to_frame().rename(columns={0:'Quantidade'})\n",
    "\n",
    "states.plot.bar()"
   ]
  },
  {
   "cell_type": "markdown",
   "metadata": {},
   "source": [
    "**Organização das brs (rodovias) e a quantidade de acidentes ,em forma decrescente, em cada rodovia.**\n"
   ]
  },
  {
   "cell_type": "code",
   "execution_count": 493,
   "metadata": {},
   "outputs": [
    {
     "data": {
      "text/html": [
       "<div>\n",
       "<style scoped>\n",
       "    .dataframe tbody tr th:only-of-type {\n",
       "        vertical-align: middle;\n",
       "    }\n",
       "\n",
       "    .dataframe tbody tr th {\n",
       "        vertical-align: top;\n",
       "    }\n",
       "\n",
       "    .dataframe thead th {\n",
       "        text-align: right;\n",
       "    }\n",
       "</style>\n",
       "<table border=\"1\" class=\"dataframe\">\n",
       "  <thead>\n",
       "    <tr style=\"text-align: right;\">\n",
       "      <th></th>\n",
       "      <th>Quantidade</th>\n",
       "    </tr>\n",
       "    <tr>\n",
       "      <th>br</th>\n",
       "      <th></th>\n",
       "    </tr>\n",
       "  </thead>\n",
       "  <tbody>\n",
       "    <tr>\n",
       "      <th>101</th>\n",
       "      <td>7528</td>\n",
       "    </tr>\n",
       "    <tr>\n",
       "      <th>116</th>\n",
       "      <td>6469</td>\n",
       "    </tr>\n",
       "    <tr>\n",
       "      <th>40</th>\n",
       "      <td>2155</td>\n",
       "    </tr>\n",
       "    <tr>\n",
       "      <th>381</th>\n",
       "      <td>2142</td>\n",
       "    </tr>\n",
       "    <tr>\n",
       "      <th>153</th>\n",
       "      <td>1835</td>\n",
       "    </tr>\n",
       "    <tr>\n",
       "      <th>364</th>\n",
       "      <td>1601</td>\n",
       "    </tr>\n",
       "    <tr>\n",
       "      <th>163</th>\n",
       "      <td>1461</td>\n",
       "    </tr>\n",
       "    <tr>\n",
       "      <th>277</th>\n",
       "      <td>1355</td>\n",
       "    </tr>\n",
       "    <tr>\n",
       "      <th>262</th>\n",
       "      <td>1226</td>\n",
       "    </tr>\n",
       "    <tr>\n",
       "      <th>376</th>\n",
       "      <td>1157</td>\n",
       "    </tr>\n",
       "    <tr>\n",
       "      <th>470</th>\n",
       "      <td>1140</td>\n",
       "    </tr>\n",
       "    <tr>\n",
       "      <th>282</th>\n",
       "      <td>931</td>\n",
       "    </tr>\n",
       "    <tr>\n",
       "      <th>230</th>\n",
       "      <td>884</td>\n",
       "    </tr>\n",
       "    <tr>\n",
       "      <th>316</th>\n",
       "      <td>795</td>\n",
       "    </tr>\n",
       "    <tr>\n",
       "      <th>60</th>\n",
       "      <td>744</td>\n",
       "    </tr>\n",
       "    <tr>\n",
       "      <th>70</th>\n",
       "      <td>694</td>\n",
       "    </tr>\n",
       "    <tr>\n",
       "      <th>20</th>\n",
       "      <td>678</td>\n",
       "    </tr>\n",
       "    <tr>\n",
       "      <th>476</th>\n",
       "      <td>633</td>\n",
       "    </tr>\n",
       "    <tr>\n",
       "      <th>280</th>\n",
       "      <td>584</td>\n",
       "    </tr>\n",
       "    <tr>\n",
       "      <th>50</th>\n",
       "      <td>545</td>\n",
       "    </tr>\n",
       "  </tbody>\n",
       "</table>\n",
       "</div>"
      ],
      "text/plain": [
       "     Quantidade\n",
       "br             \n",
       "101        7528\n",
       "116        6469\n",
       "40         2155\n",
       "381        2142\n",
       "153        1835\n",
       "364        1601\n",
       "163        1461\n",
       "277        1355\n",
       "262        1226\n",
       "376        1157\n",
       "470        1140\n",
       "282         931\n",
       "230         884\n",
       "316         795\n",
       "60          744\n",
       "70          694\n",
       "20          678\n",
       "476         633\n",
       "280         584\n",
       "50          545"
      ]
     },
     "execution_count": 493,
     "metadata": {},
     "output_type": "execute_result"
    }
   ],
   "source": [
    "df.groupby('br').size().sort_values(ascending = False)[0:20].to_frame().rename(columns={0:'Quantidade'})"
   ]
  },
  {
   "cell_type": "code",
   "execution_count": 494,
   "metadata": {},
   "outputs": [
    {
     "data": {
      "text/plain": [
       "<matplotlib.axes._subplots.AxesSubplot at 0x7f4a9bbd8ad0>"
      ]
     },
     "execution_count": 494,
     "metadata": {},
     "output_type": "execute_result"
    },
    {
     "data": {
      "image/png": "[encoded data removed]",
      "text/plain": [
       "<Figure size 432x288 with 1 Axes>"
      ]
     },
     "metadata": {
      "needs_background": "light"
     },
     "output_type": "display_data"
    }
   ],
   "source": [
    "highways = df.groupby('br').size().sort_values(ascending = True)[-20:].to_frame().rename(columns={0:'Quantidade'})\n",
    "\n",
    "highways.plot.bar()"
   ]
  },
  {
   "cell_type": "markdown",
   "metadata": {},
   "source": [
    "**Organização das datas em que ocorreram os acidentes e a quantidade de acidentes em forma decrescente.**\n"
   ]
  },
  {
   "cell_type": "code",
   "execution_count": 534,
   "metadata": {},
   "outputs": [
    {
     "data": {
      "text/html": [
       "<div>\n",
       "<style scoped>\n",
       "    .dataframe tbody tr th:only-of-type {\n",
       "        vertical-align: middle;\n",
       "    }\n",
       "\n",
       "    .dataframe tbody tr th {\n",
       "        vertical-align: top;\n",
       "    }\n",
       "\n",
       "    .dataframe thead th {\n",
       "        text-align: right;\n",
       "    }\n",
       "</style>\n",
       "<table border=\"1\" class=\"dataframe\">\n",
       "  <thead>\n",
       "    <tr style=\"text-align: right;\">\n",
       "      <th></th>\n",
       "      <th>Quantidade</th>\n",
       "    </tr>\n",
       "    <tr>\n",
       "      <th>data_inversa</th>\n",
       "      <th></th>\n",
       "    </tr>\n",
       "  </thead>\n",
       "  <tbody>\n",
       "    <tr>\n",
       "      <th>September</th>\n",
       "      <td>5629</td>\n",
       "    </tr>\n",
       "    <tr>\n",
       "      <th>August</th>\n",
       "      <td>5624</td>\n",
       "    </tr>\n",
       "    <tr>\n",
       "      <th>January</th>\n",
       "      <td>5497</td>\n",
       "    </tr>\n",
       "    <tr>\n",
       "      <th>February</th>\n",
       "      <td>5467</td>\n",
       "    </tr>\n",
       "    <tr>\n",
       "      <th>July</th>\n",
       "      <td>5117</td>\n",
       "    </tr>\n",
       "    <tr>\n",
       "      <th>March</th>\n",
       "      <td>4784</td>\n",
       "    </tr>\n",
       "    <tr>\n",
       "      <th>June</th>\n",
       "      <td>4723</td>\n",
       "    </tr>\n",
       "    <tr>\n",
       "      <th>May</th>\n",
       "      <td>4649</td>\n",
       "    </tr>\n",
       "    <tr>\n",
       "      <th>April</th>\n",
       "      <td>3878</td>\n",
       "    </tr>\n",
       "  </tbody>\n",
       "</table>\n",
       "</div>"
      ],
      "text/plain": [
       "              Quantidade\n",
       "data_inversa            \n",
       "September           5629\n",
       "August              5624\n",
       "January             5497\n",
       "February            5467\n",
       "July                5117\n",
       "March               4784\n",
       "June                4723\n",
       "May                 4649\n",
       "April               3878"
      ]
     },
     "execution_count": 534,
     "metadata": {},
     "output_type": "execute_result"
    }
   ],
   "source": [
    "df.groupby(df['data_inversa'].dt.strftime('%B')).size().sort_values(ascending = False).to_frame().rename(columns={0:'Quantidade'})"
   ]
  },
  {
   "cell_type": "code",
   "execution_count": 568,
   "metadata": {},
   "outputs": [
    {
     "data": {
      "text/plain": [
       "<matplotlib.axes._subplots.AxesSubplot at 0x7f4a9acc0450>"
      ]
     },
     "execution_count": 568,
     "metadata": {},
     "output_type": "execute_result"
    },
    {
     "data": {
      "image/png": "[encoded data removed]",
      "text/plain": [
       "<Figure size 432x288 with 1 Axes>"
      ]
     },
     "metadata": {
      "needs_background": "light"
     },
     "output_type": "display_data"
    }
   ],
   "source": [
    "months = df.groupby(df['data_inversa'].dt.month).size().to_frame().rename(columns={0:'Quantidade'})\n",
    "\n",
    "import calendar\n",
    "months.rename(index= lambda x: calendar.month_abbr[x]).plot.line()"
   ]
  },
  {
   "cell_type": "code",
   "execution_count": 565,
   "metadata": {},
   "outputs": [
    {
     "data": {
      "text/html": [
       "<div>\n",
       "<style scoped>\n",
       "    .dataframe tbody tr th:only-of-type {\n",
       "        vertical-align: middle;\n",
       "    }\n",
       "\n",
       "    .dataframe tbody tr th {\n",
       "        vertical-align: top;\n",
       "    }\n",
       "\n",
       "    .dataframe thead th {\n",
       "        text-align: right;\n",
       "    }\n",
       "</style>\n",
       "<table border=\"1\" class=\"dataframe\">\n",
       "  <thead>\n",
       "    <tr style=\"text-align: right;\">\n",
       "      <th></th>\n",
       "      <th>Quantidade</th>\n",
       "    </tr>\n",
       "    <tr>\n",
       "      <th>data_inversa</th>\n",
       "      <th></th>\n",
       "    </tr>\n",
       "  </thead>\n",
       "  <tbody>\n",
       "    <tr>\n",
       "      <th>Jan</th>\n",
       "      <td>5497</td>\n",
       "    </tr>\n",
       "    <tr>\n",
       "      <th>Feb</th>\n",
       "      <td>5467</td>\n",
       "    </tr>\n",
       "    <tr>\n",
       "      <th>Mar</th>\n",
       "      <td>4784</td>\n",
       "    </tr>\n",
       "    <tr>\n",
       "      <th>Apr</th>\n",
       "      <td>3878</td>\n",
       "    </tr>\n",
       "    <tr>\n",
       "      <th>May</th>\n",
       "      <td>4649</td>\n",
       "    </tr>\n",
       "    <tr>\n",
       "      <th>Jun</th>\n",
       "      <td>4723</td>\n",
       "    </tr>\n",
       "    <tr>\n",
       "      <th>Jul</th>\n",
       "      <td>5117</td>\n",
       "    </tr>\n",
       "    <tr>\n",
       "      <th>Aug</th>\n",
       "      <td>5624</td>\n",
       "    </tr>\n",
       "    <tr>\n",
       "      <th>Sep</th>\n",
       "      <td>5629</td>\n",
       "    </tr>\n",
       "  </tbody>\n",
       "</table>\n",
       "</div>"
      ],
      "text/plain": [
       "              Quantidade\n",
       "data_inversa            \n",
       "Jan                 5497\n",
       "Feb                 5467\n",
       "Mar                 4784\n",
       "Apr                 3878\n",
       "May                 4649\n",
       "Jun                 4723\n",
       "Jul                 5117\n",
       "Aug                 5624\n",
       "Sep                 5629"
      ]
     },
     "execution_count": 565,
     "metadata": {},
     "output_type": "execute_result"
    }
   ],
   "source": []
  },
  {
   "cell_type": "markdown",
   "metadata": {},
   "source": [
    "**Organização dos dias da semana e a quantidade de acidentes ,em forma decrescente, em cada dia.**\n"
   ]
  },
  {
   "cell_type": "code",
   "execution_count": 496,
   "metadata": {},
   "outputs": [
    {
     "data": {
      "text/html": [
       "<div>\n",
       "<style scoped>\n",
       "    .dataframe tbody tr th:only-of-type {\n",
       "        vertical-align: middle;\n",
       "    }\n",
       "\n",
       "    .dataframe tbody tr th {\n",
       "        vertical-align: top;\n",
       "    }\n",
       "\n",
       "    .dataframe thead th {\n",
       "        text-align: right;\n",
       "    }\n",
       "</style>\n",
       "<table border=\"1\" class=\"dataframe\">\n",
       "  <thead>\n",
       "    <tr style=\"text-align: right;\">\n",
       "      <th></th>\n",
       "      <th>Quantidade</th>\n",
       "    </tr>\n",
       "    <tr>\n",
       "      <th>dia_semana</th>\n",
       "      <th></th>\n",
       "    </tr>\n",
       "  </thead>\n",
       "  <tbody>\n",
       "    <tr>\n",
       "      <th>s�bado</th>\n",
       "      <td>7476</td>\n",
       "    </tr>\n",
       "    <tr>\n",
       "      <th>domingo</th>\n",
       "      <td>7436</td>\n",
       "    </tr>\n",
       "    <tr>\n",
       "      <th>sexta-feira</th>\n",
       "      <td>7043</td>\n",
       "    </tr>\n",
       "    <tr>\n",
       "      <th>segunda-feira</th>\n",
       "      <td>6092</td>\n",
       "    </tr>\n",
       "    <tr>\n",
       "      <th>quarta-feira</th>\n",
       "      <td>5923</td>\n",
       "    </tr>\n",
       "    <tr>\n",
       "      <th>quinta-feira</th>\n",
       "      <td>5772</td>\n",
       "    </tr>\n",
       "    <tr>\n",
       "      <th>ter�a-feira</th>\n",
       "      <td>5626</td>\n",
       "    </tr>\n",
       "  </tbody>\n",
       "</table>\n",
       "</div>"
      ],
      "text/plain": [
       "               Quantidade\n",
       "dia_semana               \n",
       "s�bado               7476\n",
       "domingo              7436\n",
       "sexta-feira          7043\n",
       "segunda-feira        6092\n",
       "quarta-feira         5923\n",
       "quinta-feira         5772\n",
       "ter�a-feira          5626"
      ]
     },
     "execution_count": 496,
     "metadata": {},
     "output_type": "execute_result"
    }
   ],
   "source": [
    "df.groupby('dia_semana').size().sort_values(ascending = False).to_frame().rename(columns={0:'Quantidade'})"
   ]
  },
  {
   "cell_type": "code",
   "execution_count": 497,
   "metadata": {},
   "outputs": [
    {
     "data": {
      "text/plain": [
       "array([<matplotlib.axes._subplots.AxesSubplot object at 0x7f4a9bafffd0>],\n",
       "      dtype=object)"
      ]
     },
     "execution_count": 497,
     "metadata": {},
     "output_type": "execute_result"
    },
    {
     "data": {
      "image/png": "[encoded data removed]",
      "text/plain": [
       "<Figure size 432x288 with 1 Axes>"
      ]
     },
     "metadata": {},
     "output_type": "display_data"
    }
   ],
   "source": [
    "days = df.groupby('dia_semana').size().sort_values(ascending = True).to_frame().rename(columns={0:'Quantidade'})\n",
    "\n",
    "days.plot.pie(subplots = True)"
   ]
  },
  {
   "cell_type": "markdown",
   "metadata": {},
   "source": [
    "**Organização dos tipos de pista e a quantidade de acidentes ,em forma decrescente, em cada tipo de pista.**\n"
   ]
  },
  {
   "cell_type": "code",
   "execution_count": 498,
   "metadata": {},
   "outputs": [
    {
     "data": {
      "text/html": [
       "<div>\n",
       "<style scoped>\n",
       "    .dataframe tbody tr th:only-of-type {\n",
       "        vertical-align: middle;\n",
       "    }\n",
       "\n",
       "    .dataframe tbody tr th {\n",
       "        vertical-align: top;\n",
       "    }\n",
       "\n",
       "    .dataframe thead th {\n",
       "        text-align: right;\n",
       "    }\n",
       "</style>\n",
       "<table border=\"1\" class=\"dataframe\">\n",
       "  <thead>\n",
       "    <tr style=\"text-align: right;\">\n",
       "      <th></th>\n",
       "      <th>Quantidade</th>\n",
       "    </tr>\n",
       "    <tr>\n",
       "      <th>tipo_pista</th>\n",
       "      <th></th>\n",
       "    </tr>\n",
       "  </thead>\n",
       "  <tbody>\n",
       "    <tr>\n",
       "      <th>Simples</th>\n",
       "      <td>23120</td>\n",
       "    </tr>\n",
       "    <tr>\n",
       "      <th>Dupla</th>\n",
       "      <td>18643</td>\n",
       "    </tr>\n",
       "    <tr>\n",
       "      <th>M�ltipla</th>\n",
       "      <td>3605</td>\n",
       "    </tr>\n",
       "  </tbody>\n",
       "</table>\n",
       "</div>"
      ],
      "text/plain": [
       "            Quantidade\n",
       "tipo_pista            \n",
       "Simples          23120\n",
       "Dupla            18643\n",
       "M�ltipla          3605"
      ]
     },
     "execution_count": 498,
     "metadata": {},
     "output_type": "execute_result"
    }
   ],
   "source": [
    "tracks = df.groupby('tipo_pista').size().sort_values(ascending = False).to_frame().rename(columns={0:'Quantidade'})\n",
    "\n",
    "tracks"
   ]
  },
  {
   "cell_type": "code",
   "execution_count": 499,
   "metadata": {},
   "outputs": [
    {
     "data": {
      "text/plain": [
       "array([<matplotlib.axes._subplots.AxesSubplot object at 0x7f4a9bb07a90>],\n",
       "      dtype=object)"
      ]
     },
     "execution_count": 499,
     "metadata": {},
     "output_type": "execute_result"
    },
    {
     "data": {
      "image/png": "[encoded data removed]",
      "text/plain": [
       "<Figure size 432x288 with 1 Axes>"
      ]
     },
     "metadata": {},
     "output_type": "display_data"
    }
   ],
   "source": [
    "tracks.plot.pie(subplots = True)"
   ]
  },
  {
   "cell_type": "markdown",
   "metadata": {},
   "source": [
    "**Organização dos tipos das vias e a quantidade de acidentes ,em forma decrescente, em cada tipo de via.**\n"
   ]
  },
  {
   "cell_type": "code",
   "execution_count": 500,
   "metadata": {},
   "outputs": [
    {
     "data": {
      "text/html": [
       "<div>\n",
       "<style scoped>\n",
       "    .dataframe tbody tr th:only-of-type {\n",
       "        vertical-align: middle;\n",
       "    }\n",
       "\n",
       "    .dataframe tbody tr th {\n",
       "        vertical-align: top;\n",
       "    }\n",
       "\n",
       "    .dataframe thead th {\n",
       "        text-align: right;\n",
       "    }\n",
       "</style>\n",
       "<table border=\"1\" class=\"dataframe\">\n",
       "  <thead>\n",
       "    <tr style=\"text-align: right;\">\n",
       "      <th></th>\n",
       "      <th>Quantidade</th>\n",
       "    </tr>\n",
       "    <tr>\n",
       "      <th>tracado_via</th>\n",
       "      <th></th>\n",
       "    </tr>\n",
       "  </thead>\n",
       "  <tbody>\n",
       "    <tr>\n",
       "      <th>Reta</th>\n",
       "      <td>27391</td>\n",
       "    </tr>\n",
       "    <tr>\n",
       "      <th>Curva</th>\n",
       "      <td>7047</td>\n",
       "    </tr>\n",
       "    <tr>\n",
       "      <th>N�o Informado</th>\n",
       "      <td>5429</td>\n",
       "    </tr>\n",
       "    <tr>\n",
       "      <th>Interse��o de vias</th>\n",
       "      <td>2083</td>\n",
       "    </tr>\n",
       "    <tr>\n",
       "      <th>Desvio Tempor�rio</th>\n",
       "      <td>1331</td>\n",
       "    </tr>\n",
       "    <tr>\n",
       "      <th>Rotat�ria</th>\n",
       "      <td>919</td>\n",
       "    </tr>\n",
       "    <tr>\n",
       "      <th>Retorno Regulamentado</th>\n",
       "      <td>560</td>\n",
       "    </tr>\n",
       "    <tr>\n",
       "      <th>Viaduto</th>\n",
       "      <td>332</td>\n",
       "    </tr>\n",
       "    <tr>\n",
       "      <th>Ponte</th>\n",
       "      <td>219</td>\n",
       "    </tr>\n",
       "    <tr>\n",
       "      <th>T�nel</th>\n",
       "      <td>57</td>\n",
       "    </tr>\n",
       "  </tbody>\n",
       "</table>\n",
       "</div>"
      ],
      "text/plain": [
       "                       Quantidade\n",
       "tracado_via                      \n",
       "Reta                        27391\n",
       "Curva                        7047\n",
       "N�o Informado                5429\n",
       "Interse��o de vias           2083\n",
       "Desvio Tempor�rio            1331\n",
       "Rotat�ria                     919\n",
       "Retorno Regulamentado         560\n",
       "Viaduto                       332\n",
       "Ponte                         219\n",
       "T�nel                          57"
      ]
     },
     "execution_count": 500,
     "metadata": {},
     "output_type": "execute_result"
    }
   ],
   "source": [
    "df.groupby('tracado_via').size().sort_values(ascending = False).to_frame().rename(columns={0:'Quantidade'})"
   ]
  },
  {
   "cell_type": "code",
   "execution_count": 501,
   "metadata": {},
   "outputs": [
    {
     "data": {
      "text/plain": [
       "<matplotlib.axes._subplots.AxesSubplot at 0x7f4a9b9f6490>"
      ]
     },
     "execution_count": 501,
     "metadata": {},
     "output_type": "execute_result"
    },
    {
     "data": {
      "image/png": "[encoded data removed]",
      "text/plain": [
       "<Figure size 432x288 with 1 Axes>"
      ]
     },
     "metadata": {
      "needs_background": "light"
     },
     "output_type": "display_data"
    }
   ],
   "source": [
    "layout = df.groupby('tracado_via').size().sort_values(ascending = True).to_frame().rename(columns={0:'Quantidade'})\n",
    "\n",
    "layout.plot.barh()"
   ]
  },
  {
   "cell_type": "markdown",
   "metadata": {},
   "source": [
    "**Organização das fases do dia e a quantidade de acidentes ,em forma decrescente, em cada fase do dia.**\n"
   ]
  },
  {
   "cell_type": "code",
   "execution_count": 502,
   "metadata": {},
   "outputs": [
    {
     "data": {
      "text/html": [
       "<div>\n",
       "<style scoped>\n",
       "    .dataframe tbody tr th:only-of-type {\n",
       "        vertical-align: middle;\n",
       "    }\n",
       "\n",
       "    .dataframe tbody tr th {\n",
       "        vertical-align: top;\n",
       "    }\n",
       "\n",
       "    .dataframe thead th {\n",
       "        text-align: right;\n",
       "    }\n",
       "</style>\n",
       "<table border=\"1\" class=\"dataframe\">\n",
       "  <thead>\n",
       "    <tr style=\"text-align: right;\">\n",
       "      <th></th>\n",
       "      <th>Quantidade</th>\n",
       "    </tr>\n",
       "    <tr>\n",
       "      <th>fase_dia</th>\n",
       "      <th></th>\n",
       "    </tr>\n",
       "  </thead>\n",
       "  <tbody>\n",
       "    <tr>\n",
       "      <th>Pleno dia</th>\n",
       "      <td>24305</td>\n",
       "    </tr>\n",
       "    <tr>\n",
       "      <th>Plena Noite</th>\n",
       "      <td>16430</td>\n",
       "    </tr>\n",
       "    <tr>\n",
       "      <th>Anoitecer</th>\n",
       "      <td>2600</td>\n",
       "    </tr>\n",
       "    <tr>\n",
       "      <th>Amanhecer</th>\n",
       "      <td>2033</td>\n",
       "    </tr>\n",
       "  </tbody>\n",
       "</table>\n",
       "</div>"
      ],
      "text/plain": [
       "             Quantidade\n",
       "fase_dia               \n",
       "Pleno dia         24305\n",
       "Plena Noite       16430\n",
       "Anoitecer          2600\n",
       "Amanhecer          2033"
      ]
     },
     "execution_count": 502,
     "metadata": {},
     "output_type": "execute_result"
    }
   ],
   "source": [
    "quant_phases = df.groupby('fase_dia').size().sort_values(ascending = False).to_frame().rename(columns={0:'Quantidade'})\n",
    "\n",
    "quant_phases"
   ]
  },
  {
   "cell_type": "code",
   "execution_count": 503,
   "metadata": {},
   "outputs": [
    {
     "data": {
      "text/plain": [
       "array([<matplotlib.axes._subplots.AxesSubplot object at 0x7f4a9b9ced50>],\n",
       "      dtype=object)"
      ]
     },
     "execution_count": 503,
     "metadata": {},
     "output_type": "execute_result"
    },
    {
     "data": {
      "image/png": "[encoded data removed]",
      "text/plain": [
       "<Figure size 432x288 with 1 Axes>"
      ]
     },
     "metadata": {},
     "output_type": "display_data"
    }
   ],
   "source": [
    "quant_phases.plot.pie(subplots = True)"
   ]
  },
  {
   "cell_type": "markdown",
   "metadata": {},
   "source": [
    "**Organização das fases do dia e a quantidade de mortos ,em forma decrescente, em cada fase do dia.**\n"
   ]
  },
  {
   "cell_type": "code",
   "execution_count": 504,
   "metadata": {},
   "outputs": [
    {
     "data": {
      "text/html": [
       "<div>\n",
       "<style scoped>\n",
       "    .dataframe tbody tr th:only-of-type {\n",
       "        vertical-align: middle;\n",
       "    }\n",
       "\n",
       "    .dataframe tbody tr th {\n",
       "        vertical-align: top;\n",
       "    }\n",
       "\n",
       "    .dataframe thead th {\n",
       "        text-align: right;\n",
       "    }\n",
       "</style>\n",
       "<table border=\"1\" class=\"dataframe\">\n",
       "  <thead>\n",
       "    <tr style=\"text-align: right;\">\n",
       "      <th></th>\n",
       "      <th>mortos</th>\n",
       "    </tr>\n",
       "    <tr>\n",
       "      <th>fase_dia</th>\n",
       "      <th></th>\n",
       "    </tr>\n",
       "  </thead>\n",
       "  <tbody>\n",
       "    <tr>\n",
       "      <th>Plena Noite</th>\n",
       "      <td>1890</td>\n",
       "    </tr>\n",
       "    <tr>\n",
       "      <th>Pleno dia</th>\n",
       "      <td>1354</td>\n",
       "    </tr>\n",
       "    <tr>\n",
       "      <th>Amanhecer</th>\n",
       "      <td>249</td>\n",
       "    </tr>\n",
       "    <tr>\n",
       "      <th>Anoitecer</th>\n",
       "      <td>184</td>\n",
       "    </tr>\n",
       "  </tbody>\n",
       "</table>\n",
       "</div>"
      ],
      "text/plain": [
       "             mortos\n",
       "fase_dia           \n",
       "Plena Noite    1890\n",
       "Pleno dia      1354\n",
       "Amanhecer       249\n",
       "Anoitecer       184"
      ]
     },
     "execution_count": 504,
     "metadata": {},
     "output_type": "execute_result"
    }
   ],
   "source": [
    "dies_phases = df.groupby('fase_dia')['mortos'].sum().sort_values(ascending = False).to_frame()\n",
    "\n",
    "dies_phases"
   ]
  },
  {
   "cell_type": "code",
   "execution_count": 505,
   "metadata": {},
   "outputs": [
    {
     "data": {
      "text/plain": [
       "array([<matplotlib.axes._subplots.AxesSubplot object at 0x7f4a9b952150>],\n",
       "      dtype=object)"
      ]
     },
     "execution_count": 505,
     "metadata": {},
     "output_type": "execute_result"
    },
    {
     "data": {
      "image/png": "[encoded data removed]",
      "text/plain": [
       "<Figure size 432x288 with 1 Axes>"
      ]
     },
     "metadata": {},
     "output_type": "display_data"
    }
   ],
   "source": [
    "dies_phases.plot.pie(subplots = True)"
   ]
  },
  {
   "cell_type": "code",
   "execution_count": 506,
   "metadata": {},
   "outputs": [
    {
     "data": {
      "text/plain": [
       "<matplotlib.axes._subplots.AxesSubplot at 0x7f4a9b8bfed0>"
      ]
     },
     "execution_count": 506,
     "metadata": {},
     "output_type": "execute_result"
    },
    {
     "data": {
      "image/png": "[encoded data removed]",
      "text/plain": [
       "<Figure size 432x288 with 1 Axes>"
      ]
     },
     "metadata": {
      "needs_background": "light"
     },
     "output_type": "display_data"
    }
   ],
   "source": [
    "dies_phases['feridos'] = df.groupby('fase_dia')['feridos'].sum().sort_values(ascending = False)\n",
    "dies_phases['ilesos'] = df.groupby('fase_dia')['ilesos'].sum().sort_values(ascending = False)\n",
    "\n",
    "phases = dies_phases[['feridos','ilesos','mortos']]\n",
    "\n",
    "phases.plot.bar()"
   ]
  },
  {
   "cell_type": "code",
   "execution_count": 517,
   "metadata": {},
   "outputs": [
    {
     "data": {
      "text/plain": [
       "<matplotlib.axes._subplots.AxesSubplot at 0x7f4a9b7d2390>"
      ]
     },
     "execution_count": 517,
     "metadata": {},
     "output_type": "execute_result"
    },
    {
     "data": {
      "image/png": "[encoded data removed]",
      "text/plain": [
       "<Figure size 432x288 with 1 Axes>"
      ]
     },
     "metadata": {
      "needs_background": "light"
     },
     "output_type": "display_data"
    }
   ],
   "source": [
    "phases.plot.line()"
   ]
  },
  {
   "cell_type": "code",
   "execution_count": 526,
   "metadata": {},
   "outputs": [
    {
     "name": "stderr",
     "output_type": "stream",
     "text": [
      "'c' argument looks like a single numeric RGB or RGBA sequence, which should be avoided as value-mapping will have precedence in case its length matches with 'x' & 'y'.  Please use a 2-D array with a single row if you really want to specify the same RGB or RGBA value for all points.\n"
     ]
    },
    {
     "data": {
      "text/plain": [
       "<matplotlib.axes._subplots.AxesSubplot at 0x7f4a9b003450>"
      ]
     },
     "execution_count": 526,
     "metadata": {},
     "output_type": "execute_result"
    },
    {
     "data": {
      "image/png": "[encoded data removed]",
      "text/plain": [
       "<Figure size 432x288 with 1 Axes>"
      ]
     },
     "metadata": {
      "needs_background": "light"
     },
     "output_type": "display_data"
    }
   ],
   "source": [
    "df.plot.scatter(x = 'data_inversa' , y = 'mortos')"
   ]
  },
  {
   "cell_type": "code",
   "execution_count": null,
   "metadata": {},
   "outputs": [],
   "source": []
  }
 ],
 "metadata": {
  "kernelspec": {
   "display_name": "Python 3",
   "language": "python",
   "name": "python3"
  },
  "language_info": {
   "codemirror_mode": {
    "name": "ipython",
    "version": 3
   },
   "file_extension": ".py",
   "mimetype": "text/x-python",
   "name": "python",
   "nbconvert_exporter": "python",
   "pygments_lexer": "ipython3",
   "version": "3.7.6"
  }
 },
 "nbformat": 4,
 "nbformat_minor": 4
}
